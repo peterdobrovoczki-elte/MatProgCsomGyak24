{
 "cells": [
  {
   "cell_type": "markdown",
   "id": "c3e247af",
   "metadata": {},
   "source": [
    "# Matematikai programocsomagok- Első gyakorlat (Ismétlés)"
   ]
  },
  {
   "cell_type": "markdown",
   "id": "071c0787",
   "metadata": {},
   "source": [
    "## Adminisztratív információ\n",
    "* Gyakorlatvezető: Dobrovoczki Péter\n",
    "* Elérhetőség: pdobrovoczki@student.elte.hu\n",
    "* Óra időtartama: Szerda 10.00-11.30 __???__\n",
    "* Óra helyszíne: LD 3-316 (Valszám tanszék)\n",
    "* A jelenlét kötelező, a szokásos három hiányzás engedélyezett\n",
    "* Számonkérés módja: nagy beadandó (3-4 fős csoportokban)\n",
    "* Mindenki hozzon saját számítógépet, akinek nem áll módjában, az csatlakozzon valakihez"
   ]
  },
  {
   "cell_type": "markdown",
   "id": "3345e897",
   "metadata": {},
   "source": [
    "## A félév menete\n",
    "\n",
    "* A python különböző alkalmazásait fogjuk megnézni\n",
    "* Kilépünk a Jupyter notebookok világából (python REPL, scriptek)\n",
    "* Néhány szoftverfejlesztési eszköz (IDE, verziókezelés)\n",
    "* Algoritmikus témák:\n",
    "  - Operációkutatás (solverek használata),\n",
    "  - Numerikus Analízis\n",
    "  - stb.\n",
    "* Ismétlés és intro (Első gyakorlat)\n",
    "* Szimbolikus programozás (Második gyakorlat)"
   ]
  },
  {
   "cell_type": "markdown",
   "id": "e07c2de5",
   "metadata": {},
   "source": [
    "# Ismétlés"
   ]
  },
  {
   "cell_type": "markdown",
   "id": "24536ffb",
   "metadata": {},
   "source": [
    "## Jupyter notebook\n",
    "\n",
    "* Cella mágiák: https://ipython.readthedocs.io/en/stable/interactive/magics.html"
   ]
  },
  {
   "cell_type": "code",
   "execution_count": 30,
   "id": "8fb50866",
   "metadata": {
    "ExecuteTime": {
     "end_time": "2021-09-07T07:07:55.436359Z",
     "start_time": "2021-09-07T07:07:55.422394Z"
    }
   },
   "outputs": [
    {
     "data": {
      "text/plain": [
       "'C:\\\\Users\\\\pdobrovoczki\\\\Notebooks\\\\MatProgCsom_2024'"
      ]
     },
     "execution_count": 30,
     "metadata": {},
     "output_type": "execute_result"
    }
   ],
   "source": [
    "%pwd"
   ]
  },
  {
   "cell_type": "code",
   "execution_count": 31,
   "id": "296ad569-1886-4fd2-b1e7-dd5957e517cb",
   "metadata": {},
   "outputs": [
    {
     "name": "stdout",
     "output_type": "stream",
     "text": [
      "CPU times: total: 15.8 s\n",
      "Wall time: 21.5 s\n"
     ]
    }
   ],
   "source": [
    "%%time\n",
    "s = 0\n",
    "for i in range(10**8):\n",
    "    s += i"
   ]
  },
  {
   "cell_type": "code",
   "execution_count": 32,
   "id": "7f6d396e-f93a-4bd8-8521-db0c4d4ab630",
   "metadata": {},
   "outputs": [
    {
     "name": "stdout",
     "output_type": "stream",
     "text": [
      " Volume in drive C has no label.\n",
      " Volume Serial Number is 86FF-519F\n",
      "\n",
      " Directory of C:\\Users\\pdobrovoczki\\Notebooks\\MatProgCsom_2024\n",
      "\n",
      "21/02/2024  09:24    <DIR>          .\n",
      "21/02/2024  07:05    <DIR>          ..\n",
      "21/02/2024  07:41    <DIR>          .ipynb_checkpoints\n",
      "21/02/2024  07:04            74,126 MAF II. - Hatodik gyakorlat (Kedd) - PuLP (megold s).ipynb\n",
      "21/02/2024  07:04           376,207 MAF II. - Hatodik gyakorlat (Kedd) - PuLP.ipynb\n",
      "21/02/2024  07:04           125,092 MAF II. - Hetedik gyakorlat (Kedd) (Megold s).ipynb\n",
      "21/02/2024  07:04             3,418 MAF II. - Hetedik gyakorlat (Kedd) .ipynb\n",
      "21/02/2024  07:04            33,922 MAF II. - Kilencedik gyakorlat (Kedd) - Dekor torok (megold s).ipynb\n",
      "21/02/2024  07:04            18,285 MAF II. - Kilencedik gyakorlat (Kedd) - Dekor torok.ipynb\n",
      "21/02/2024  07:04            80,460 MAF II. - M sodik gyakorlat (Kedd) - SymPy (Megold sok).ipynb\n",
      "21/02/2024  07:04            22,498 MAF II. - Negyedik gyakorlat (Kedd) - SAT (Megold sok) (1).ipynb\n",
      "21/02/2024  07:04           182,163 MAF II. - Tizedik gyakorlat (Kedd) - Differenci legyenletek numerikus m¢dszerei (Megold s).ipynb\n",
      "21/02/2024  07:04            70,933 MAF II. - Tizedik gyakorlat (Kedd) - Differenci legyenletek numerikus m¢dszerei.ipynb\n",
      "21/02/2024  07:04            56,534 MAF II. - ™t”dik eload s (Cs�t”rt”k) - MILP.ipynb\n",
      "21/02/2024  07:04            39,637 MAF2_Eloadas_8.ipynb\n",
      "21/02/2024  09:24            45,492 MatProgCsom2024ELTE - Elso gyakorlat (Szerda).ipynb\n",
      "21/02/2024  07:48            57,026 MatProgCsom2024ELTE - M sodik gyakorlat (Szerda).ipynb\n",
      "21/02/2024  07:04               551 nutrients.dat\n",
      "21/02/2024  07:04                 1 Readme.md\n",
      "21/02/2024  07:04                23 text.txt\n",
      "              17 File(s)      1,186,368 bytes\n",
      "               3 Dir(s)  455,198,380,032 bytes free\n"
     ]
    }
   ],
   "source": [
    "! dir"
   ]
  },
  {
   "cell_type": "code",
   "execution_count": 35,
   "id": "7a9f8395-8691-4a55-b569-c98c262e94e2",
   "metadata": {},
   "outputs": [
    {
     "data": {
      "text/plain": [
       "1157"
      ]
     },
     "execution_count": 35,
     "metadata": {},
     "output_type": "execute_result"
    }
   ],
   "source": [
    "s = 13*89\n",
    "s"
   ]
  },
  {
   "cell_type": "code",
   "execution_count": 36,
   "id": "4fac16f7-83a4-4ee9-b88c-ab6fa2cc0f03",
   "metadata": {},
   "outputs": [
    {
     "name": "stdout",
     "output_type": "stream",
     "text": [
      "1157\n"
     ]
    }
   ],
   "source": [
    "s = 13*89\n",
    "print(s)"
   ]
  },
  {
   "cell_type": "markdown",
   "id": "490a5947",
   "metadata": {},
   "source": [
    "## Változók, egyszerű aritmetika, `print()`, `range()`, ciklusok, elágazások"
   ]
  },
  {
   "cell_type": "code",
   "execution_count": 6,
   "id": "6ad6b7c0",
   "metadata": {
    "ExecuteTime": {
     "end_time": "2021-09-07T07:26:59.020677Z",
     "start_time": "2021-09-07T07:26:59.005285Z"
    }
   },
   "outputs": [
    {
     "name": "stdout",
     "output_type": "stream",
     "text": [
      "3 2 1 -2 0.3333333333333333 16\n"
     ]
    }
   ],
   "source": [
    "a = 1\n",
    "b = 2\n",
    "c, d = 3, 4\n",
    "print(a+b, b%c, d//c, a-c, a/c, b**d)"
   ]
  },
  {
   "cell_type": "code",
   "execution_count": 37,
   "id": "f0278bf3-62bf-425a-9b4f-30dee88b7ea6",
   "metadata": {},
   "outputs": [
    {
     "data": {
      "text/plain": [
       "'foobar'"
      ]
     },
     "execution_count": 37,
     "metadata": {},
     "output_type": "execute_result"
    }
   ],
   "source": [
    "s1 = \"foo\"\n",
    "s2 = \"bar\"\n",
    "s1 + s2"
   ]
  },
  {
   "cell_type": "code",
   "execution_count": 38,
   "id": "6007c730-2e3f-47ee-b176-236a8117134d",
   "metadata": {},
   "outputs": [
    {
     "data": {
      "text/plain": [
       "[1, 2, 3, 'a', 'b', 'c']"
      ]
     },
     "execution_count": 38,
     "metadata": {},
     "output_type": "execute_result"
    }
   ],
   "source": [
    "a = [1,2,3]\n",
    "b = [\"a\", \"b\", \"c\"]\n",
    "a + b"
   ]
  },
  {
   "cell_type": "code",
   "execution_count": 11,
   "id": "629c5802",
   "metadata": {
    "ExecuteTime": {
     "end_time": "2021-09-07T07:28:08.191941Z",
     "start_time": "2021-09-07T07:28:08.145078Z"
    }
   },
   "outputs": [
    {
     "name": "stdout",
     "output_type": "stream",
     "text": [
      "2^1 == 2\n",
      "2^3 == 8\n",
      "2^5 == 32\n",
      "2^7 == 128\n",
      "2^9 == 512\n"
     ]
    }
   ],
   "source": [
    "for i in range(10):\n",
    "    if i%2 == 1:\n",
    "        print(f\"2^{i} == {2**i}\")"
   ]
  },
  {
   "cell_type": "code",
   "execution_count": 45,
   "id": "5612a184-18c8-49f8-9621-8db2379d1a59",
   "metadata": {},
   "outputs": [
    {
     "name": "stdout",
     "output_type": "stream",
     "text": [
      "OK\n"
     ]
    }
   ],
   "source": [
    "if 2:\n",
    "    print(\"OK\")"
   ]
  },
  {
   "cell_type": "code",
   "execution_count": 42,
   "id": "bc6448a3-0fdd-49dc-8d2f-41c17c96da1a",
   "metadata": {},
   "outputs": [
    {
     "name": "stdout",
     "output_type": "stream",
     "text": [
      "2\n",
      "4\n",
      "6\n",
      "8\n"
     ]
    }
   ],
   "source": [
    "for i in range(2,9, 2):\n",
    "    print(i)"
   ]
  },
  {
   "cell_type": "code",
   "execution_count": 13,
   "id": "7b5c58c6",
   "metadata": {
    "ExecuteTime": {
     "end_time": "2021-09-07T07:30:05.173974Z",
     "start_time": "2021-09-07T07:30:05.159003Z"
    }
   },
   "outputs": [
    {
     "name": "stdout",
     "output_type": "stream",
     "text": [
      "1\n",
      "2\n",
      "3\n",
      "4\n",
      "5\n",
      "6\n",
      "7\n",
      "8\n",
      "9\n",
      "10\n"
     ]
    }
   ],
   "source": [
    "cnt = 0\n",
    "while True:\n",
    "    cnt += 1\n",
    "    print(cnt)\n",
    "    if cnt >= 10:\n",
    "        break"
   ]
  },
  {
   "cell_type": "markdown",
   "id": "531df035",
   "metadata": {},
   "source": [
    "## Egyszerű adatszerkezetek (lista, `dict`, halmaz, tuple, stb.), comprehensions"
   ]
  },
  {
   "cell_type": "code",
   "execution_count": 13,
   "id": "f1236442",
   "metadata": {
    "ExecuteTime": {
     "end_time": "2021-09-07T07:37:48.294537Z",
     "start_time": "2021-09-07T07:37:48.263479Z"
    }
   },
   "outputs": [],
   "source": [
    "# list\n",
    "l = [1,2,3,4]\n",
    "\n",
    "# tuple\n",
    "t = (1,2,3)\n",
    "m = (1,)\n",
    "\n",
    "# not tuple\n",
    "not_tuple = (1)\n",
    "\n",
    "# dict\n",
    "d = {\"a\": 1,\n",
    "     \"b\": 2}\n",
    "#set\n",
    "s = {1,2,3,3,3}"
   ]
  },
  {
   "cell_type": "code",
   "execution_count": 14,
   "id": "135b22b1-0ae3-45a1-81a6-c712b327c3a3",
   "metadata": {},
   "outputs": [],
   "source": [
    "l.append(5)"
   ]
  },
  {
   "cell_type": "code",
   "execution_count": 12,
   "id": "6ec776aa-dc91-440a-b631-ce481ab2e684",
   "metadata": {},
   "outputs": [
    {
     "data": {
      "text/plain": [
       "4"
      ]
     },
     "execution_count": 12,
     "metadata": {},
     "output_type": "execute_result"
    }
   ],
   "source": [
    "l[-2]"
   ]
  },
  {
   "cell_type": "code",
   "execution_count": 3,
   "id": "318f8285-e6ac-4950-b0f2-c77121f9afbe",
   "metadata": {},
   "outputs": [
    {
     "data": {
      "text/plain": [
       "1"
      ]
     },
     "execution_count": 3,
     "metadata": {},
     "output_type": "execute_result"
    }
   ],
   "source": [
    "d[\"a\"]"
   ]
  },
  {
   "cell_type": "code",
   "execution_count": 24,
   "id": "88e1fe95",
   "metadata": {
    "ExecuteTime": {
     "end_time": "2021-09-07T07:40:18.980635Z",
     "start_time": "2021-09-07T07:40:18.965198Z"
    }
   },
   "outputs": [
    {
     "data": {
      "text/plain": [
       "list"
      ]
     },
     "execution_count": 24,
     "metadata": {},
     "output_type": "execute_result"
    }
   ],
   "source": [
    "type(l)"
   ]
  },
  {
   "cell_type": "code",
   "execution_count": 26,
   "id": "567cf843",
   "metadata": {
    "ExecuteTime": {
     "end_time": "2021-09-07T07:40:47.894978Z",
     "start_time": "2021-09-07T07:40:47.841820Z"
    }
   },
   "outputs": [],
   "source": [
    "# list comprehension\n",
    "l = [2**i for i in range(10)]"
   ]
  },
  {
   "cell_type": "code",
   "execution_count": 15,
   "id": "9626dd57-2256-465e-b526-7ac1f2c93141",
   "metadata": {},
   "outputs": [
    {
     "data": {
      "text/plain": [
       "[2.23606797749979, 2.0, 1.7320508075688772, 1.4142135623730951, 1.0]"
      ]
     },
     "execution_count": 15,
     "metadata": {},
     "output_type": "execute_result"
    }
   ],
   "source": [
    "l2 = [i**.5 for i in l[::-1]]\n",
    "l2"
   ]
  },
  {
   "cell_type": "code",
   "execution_count": 29,
   "id": "7a1d5414",
   "metadata": {
    "ExecuteTime": {
     "end_time": "2021-09-07T07:44:02.908441Z",
     "start_time": "2021-09-07T07:44:02.892824Z"
    }
   },
   "outputs": [
    {
     "data": {
      "text/plain": [
       "{1: 2, 3: 8, 5: 32, 7: 128, 9: 512}"
      ]
     },
     "execution_count": 29,
     "metadata": {},
     "output_type": "execute_result"
    }
   ],
   "source": [
    "# dict comprehension\n",
    "d = {i: 2**i for i in range(1, 11, 2)}\n",
    "d"
   ]
  },
  {
   "cell_type": "markdown",
   "id": "aac25523",
   "metadata": {},
   "source": [
    "## Függvények (docstring, `*args`, `**kwargs`, default argumentumok)"
   ]
  },
  {
   "cell_type": "code",
   "execution_count": 23,
   "id": "bef1862a-f874-4657-88eb-d42b6288d0f2",
   "metadata": {},
   "outputs": [],
   "source": [
    "def fun(a, b):\n",
    "    l = a+b\n",
    "    return l"
   ]
  },
  {
   "cell_type": "code",
   "execution_count": 24,
   "id": "c3f6369c-880a-4f5c-8bdd-d7bb55018b34",
   "metadata": {},
   "outputs": [],
   "source": [
    "c = fun(3,4)"
   ]
  },
  {
   "cell_type": "code",
   "execution_count": 25,
   "id": "61b0e410-3fec-4f1f-aca1-69917c286de0",
   "metadata": {},
   "outputs": [
    {
     "data": {
      "text/plain": [
       "7"
      ]
     },
     "execution_count": 25,
     "metadata": {},
     "output_type": "execute_result"
    }
   ],
   "source": [
    "c"
   ]
  },
  {
   "cell_type": "code",
   "execution_count": 26,
   "id": "37309f3a-8d48-41ed-b19a-e9b42965a032",
   "metadata": {},
   "outputs": [
    {
     "data": {
      "text/plain": [
       "[1, 2, 3, 4, 5]"
      ]
     },
     "execution_count": 26,
     "metadata": {},
     "output_type": "execute_result"
    }
   ],
   "source": [
    "l"
   ]
  },
  {
   "cell_type": "code",
   "execution_count": 35,
   "id": "c31628db",
   "metadata": {
    "ExecuteTime": {
     "end_time": "2021-09-07T08:30:32.069668Z",
     "start_time": "2021-09-07T08:30:32.054039Z"
    }
   },
   "outputs": [
    {
     "name": "stdout",
     "output_type": "stream",
     "text": [
      "0 : 1\n",
      "1 : 2\n",
      "2 : 3\n",
      "3 : 4\n",
      "<class 'dict'>\n"
     ]
    }
   ],
   "source": [
    "def foo(*cica, **kwargs):\n",
    "    \"\"\"\n",
    "        This is the help of this example function\n",
    "        - sdf-sf\n",
    "        -asd\n",
    "        -- asd as d\n",
    "    \"\"\"\n",
    "    for i, arg in enumerate(cica):\n",
    "        print(i, \":\", arg)\n",
    "    print(type(kwargs))\n",
    "    # egy ciklus\n",
    "    # print(vlaami\")\n",
    "    # for i in kwargs.items():\n",
    "        # print(i)\n",
    "    \n",
    "foo(1,2,3,4, a=\"A\", b=\"B\", c=\"C\")"
   ]
  },
  {
   "cell_type": "code",
   "execution_count": 33,
   "id": "dd8b4975",
   "metadata": {
    "ExecuteTime": {
     "end_time": "2021-09-07T08:10:11.726083Z",
     "start_time": "2021-09-07T08:10:11.615533Z"
    }
   },
   "outputs": [
    {
     "name": "stdout",
     "output_type": "stream",
     "text": [
      "Help on function foo in module __main__:\n",
      "\n",
      "foo(*cica, **kwargs)\n",
      "    This is the help of this example function\n",
      "    - sdf-sf\n",
      "    -asd\n",
      "    -- asd as d\n",
      "\n"
     ]
    }
   ],
   "source": [
    "help(foo)"
   ]
  },
  {
   "cell_type": "code",
   "execution_count": 39,
   "id": "b03a4a73",
   "metadata": {
    "ExecuteTime": {
     "end_time": "2021-09-07T08:32:05.238700Z",
     "start_time": "2021-09-07T08:32:05.223077Z"
    }
   },
   "outputs": [
    {
     "name": "stdout",
     "output_type": "stream",
     "text": [
      "8\n"
     ]
    }
   ],
   "source": [
    "def bar(arg1, arg2):\n",
    "    \"\"\"\n",
    "        Help of function bar\n",
    "    \"\"\"\n",
    "    # This is a comment\n",
    "    print(arg1 * arg2)\n",
    "    \n",
    "bar(2, 4)"
   ]
  },
  {
   "cell_type": "code",
   "execution_count": 40,
   "id": "afde65f0-bd73-42ee-971a-6e8e1cca2975",
   "metadata": {},
   "outputs": [
    {
     "ename": "TypeError",
     "evalue": "bar() missing 1 required positional argument: 'arg2'",
     "output_type": "error",
     "traceback": [
      "\u001b[1;31m---------------------------------------------------------------------------\u001b[0m",
      "\u001b[1;31mTypeError\u001b[0m                                 Traceback (most recent call last)",
      "Cell \u001b[1;32mIn[40], line 1\u001b[0m\n\u001b[1;32m----> 1\u001b[0m \u001b[43mbar\u001b[49m\u001b[43m(\u001b[49m\u001b[38;5;241;43m2\u001b[39;49m\u001b[43m)\u001b[49m\n",
      "\u001b[1;31mTypeError\u001b[0m: bar() missing 1 required positional argument: 'arg2'"
     ]
    }
   ],
   "source": [
    "bar(2)"
   ]
  },
  {
   "cell_type": "markdown",
   "id": "c24555d8",
   "metadata": {},
   "source": [
    "## Osztályok"
   ]
  },
  {
   "cell_type": "code",
   "execution_count": 61,
   "id": "243ca8f7",
   "metadata": {
    "ExecuteTime": {
     "end_time": "2021-09-07T08:49:01.312098Z",
     "start_time": "2021-09-07T08:49:01.274487Z"
    }
   },
   "outputs": [],
   "source": [
    "class Vector3D:\n",
    "    \"\"\"\n",
    "        Docstring for MyClass\n",
    "    \"\"\"\n",
    "    def __init__(self, x, y, z = 0):\n",
    "        \"\"\"\n",
    "            Initialize vector with z=0 as default\n",
    "        \"\"\"\n",
    "        self.x = x\n",
    "        self.y = y\n",
    "        self.z = z\n",
    "    \n",
    "    def __str__(self):\n",
    "        return f\"Vector3D({self.x}, {self.y}, {self.z})\"\n",
    "        \n",
    "    \n",
    "    def set_coords(self, x, y, z):\n",
    "        \"\"\"\n",
    "            Set coordinates of vector\n",
    "        \"\"\"\n",
    "        if type(x) is int:\n",
    "                self.x = x\n",
    "        if type(y) is int:\n",
    "            self.y = y\n",
    "        if type(z) is int:\n",
    "            self.z = z\n",
    "\n",
    "    def __add__(self, other):\n",
    "        \"\"\"\n",
    "            Addition operation override\n",
    "        \"\"\"\n",
    "        x = self.x + other.x\n",
    "        y = self.y + other.y\n",
    "        z = self.z + other.z\n",
    "        \n",
    "        return Vector3D(x,y,z)\n",
    "\n",
    "    def __sub__(self, other):\n",
    "        x = self.x - other.x\n",
    "        y = self.y - other.y\n",
    "        z = self.z - other.z\n",
    "        \n",
    "        return Vector3D(x,y,z)\n"
   ]
  },
  {
   "cell_type": "code",
   "execution_count": 58,
   "id": "1d909c1a-715c-4d9b-bcac-54ee0b6dac39",
   "metadata": {},
   "outputs": [
    {
     "name": "stdout",
     "output_type": "stream",
     "text": [
      "Vector3D([0, 1, 2, 3, 4, 5, 6, 7, 8, 9], 2, 3)\n"
     ]
    }
   ],
   "source": [
    "p = Vector3D(1,2,3)\n",
    "print(p)"
   ]
  },
  {
   "cell_type": "code",
   "execution_count": 50,
   "id": "eeecd82a-2e87-4b2b-806c-2734d16d29bf",
   "metadata": {},
   "outputs": [],
   "source": [
    "p.x = 1\n",
    "p.y = 2\n",
    "p.z=3"
   ]
  },
  {
   "cell_type": "code",
   "execution_count": 51,
   "id": "a56d3735-b58b-44a0-978d-bd451bb971a3",
   "metadata": {},
   "outputs": [
    {
     "data": {
      "text/plain": [
       "2"
      ]
     },
     "execution_count": 51,
     "metadata": {},
     "output_type": "execute_result"
    }
   ],
   "source": [
    "p.y"
   ]
  },
  {
   "cell_type": "code",
   "execution_count": 64,
   "id": "2d622977",
   "metadata": {
    "ExecuteTime": {
     "end_time": "2021-09-07T08:49:04.664207Z",
     "start_time": "2021-09-07T08:49:04.633164Z"
    }
   },
   "outputs": [
    {
     "name": "stdout",
     "output_type": "stream",
     "text": [
      "Vector3D(1, 2, 0)\n",
      "Vector3D(1, 2, 0)\n",
      "Vector3D(-2, 4, -1)\n"
     ]
    }
   ],
   "source": [
    "p = Vector3D(1,2)\n",
    "q = Vector3D(3,-2,1)\n",
    "print(p)\n",
    "# p.set_coords(x=5, y=1)\n",
    "print(p)\n",
    "print(p-q)"
   ]
  },
  {
   "cell_type": "code",
   "execution_count": 90,
   "id": "1dc81ae6",
   "metadata": {
    "ExecuteTime": {
     "end_time": "2021-09-07T08:49:15.392847Z",
     "start_time": "2021-09-07T08:49:15.377185Z"
    }
   },
   "outputs": [
    {
     "name": "stdout",
     "output_type": "stream",
     "text": [
      "Help on class Vector3D in module __main__:\n",
      "\n",
      "class Vector3D(builtins.object)\n",
      " |  Vector3D(x, y, z=0)\n",
      " |  \n",
      " |  Docstring for MyClass\n",
      " |  \n",
      " |  Methods defined here:\n",
      " |  \n",
      " |  __add__(self, other)\n",
      " |      Addition operation override\n",
      " |  \n",
      " |  __init__(self, x, y, z=0)\n",
      " |      Initialize vector with z=0 as default\n",
      " |  \n",
      " |  __str__(self)\n",
      " |      Return str(self).\n",
      " |  \n",
      " |  set_coords(self, x=None, y=None, z=None)\n",
      " |      Set coordinates of vector\n",
      " |  \n",
      " |  ----------------------------------------------------------------------\n",
      " |  Data descriptors defined here:\n",
      " |  \n",
      " |  __dict__\n",
      " |      dictionary for instance variables (if defined)\n",
      " |  \n",
      " |  __weakref__\n",
      " |      list of weak references to the object (if defined)\n",
      "\n"
     ]
    }
   ],
   "source": [
    "help(Vector3D)"
   ]
  },
  {
   "cell_type": "code",
   "execution_count": null,
   "id": "c36fcdf3-d364-4742-b423-37b7205e705f",
   "metadata": {},
   "outputs": [],
   "source": []
  },
  {
   "cell_type": "markdown",
   "id": "b2b889cc",
   "metadata": {},
   "source": [
    "## Fájlkezelés"
   ]
  },
  {
   "cell_type": "code",
   "execution_count": 3,
   "id": "0a4abc68",
   "metadata": {
    "ExecuteTime": {
     "end_time": "2021-09-07T10:38:41.570792Z",
     "start_time": "2021-09-07T10:38:41.558770Z"
    }
   },
   "outputs": [
    {
     "data": {
      "text/plain": [
       "['Ez', 'itt', 'a', 'file', 'tartalma.']"
      ]
     },
     "execution_count": 3,
     "metadata": {},
     "output_type": "execute_result"
    }
   ],
   "source": [
    "with open(\"text.txt\") as f:\n",
    "    content = f.read()\n",
    "content.split()"
   ]
  },
  {
   "cell_type": "markdown",
   "id": "b511c2ca",
   "metadata": {},
   "source": [
    "## Modulok (`numpy`, `matplotlib`, `pandas`, stb.)"
   ]
  },
  {
   "cell_type": "code",
   "execution_count": 70,
   "id": "e4a37f15",
   "metadata": {
    "ExecuteTime": {
     "end_time": "2021-09-07T10:39:12.593399Z",
     "start_time": "2021-09-07T10:39:11.020922Z"
    }
   },
   "outputs": [],
   "source": [
    "import numpy as np\n",
    "import matplotlib.pyplot as plt\n",
    "import pandas as pd"
   ]
  },
  {
   "cell_type": "code",
   "execution_count": 67,
   "id": "4c2f1ea1-ed44-4794-a43b-cd89b6cd880b",
   "metadata": {},
   "outputs": [],
   "source": [
    "from numpy import array"
   ]
  },
  {
   "cell_type": "code",
   "execution_count": 68,
   "id": "23fb8130",
   "metadata": {
    "ExecuteTime": {
     "end_time": "2021-09-07T10:54:37.493624Z",
     "start_time": "2021-09-07T10:54:37.478055Z"
    }
   },
   "outputs": [
    {
     "data": {
      "text/plain": [
       "((2, 2), (5,))"
      ]
     },
     "execution_count": 68,
     "metadata": {},
     "output_type": "execute_result"
    }
   ],
   "source": [
    "v = array([1,2,3,4,5])\n",
    "M = np.array([[1, 1],\n",
    "              [1, 1]])\n",
    "M.shape, v.shape"
   ]
  },
  {
   "cell_type": "code",
   "execution_count": null,
   "id": "4bf38802-6357-4ace-826a-9ecfec705729",
   "metadata": {},
   "outputs": [],
   "source": []
  },
  {
   "cell_type": "code",
   "execution_count": 19,
   "id": "fd4f68e6",
   "metadata": {
    "ExecuteTime": {
     "end_time": "2021-09-07T10:54:48.671581Z",
     "start_time": "2021-09-07T10:54:48.655957Z"
    }
   },
   "outputs": [],
   "source": [
    "from numpy import random"
   ]
  },
  {
   "cell_type": "code",
   "execution_count": 72,
   "id": "eeb86448",
   "metadata": {
    "ExecuteTime": {
     "end_time": "2021-09-07T10:58:53.067759Z",
     "start_time": "2021-09-07T10:58:53.052134Z"
    }
   },
   "outputs": [],
   "source": [
    "# Standard normális eloszlás\n",
    "x = np.random.randn(100000)"
   ]
  },
  {
   "cell_type": "code",
   "execution_count": 21,
   "id": "c788a9b4",
   "metadata": {
    "ExecuteTime": {
     "end_time": "2021-09-07T11:03:23.533438Z",
     "start_time": "2021-09-07T11:03:23.502411Z"
    }
   },
   "outputs": [],
   "source": [
    "# Normális eloszlás\n",
    "σ = .5\n",
    "μ = 2\n",
    "y = σ * np.random.randn(100000) + μ"
   ]
  },
  {
   "cell_type": "code",
   "execution_count": 22,
   "id": "00520900",
   "metadata": {
    "ExecuteTime": {
     "end_time": "2021-09-07T11:03:24.636431Z",
     "start_time": "2021-09-07T11:03:24.351379Z"
    }
   },
   "outputs": [
    {
     "data": {
      "image/png": "[encoded data removed]",
      "text/plain": [
       "<Figure size 640x480 with 1 Axes>"
      ]
     },
     "metadata": {},
     "output_type": "display_data"
    }
   ],
   "source": [
    "plt.hist(y, bins=100)\n",
    "plt.show()"
   ]
  },
  {
   "cell_type": "code",
   "execution_count": 23,
   "id": "c77e668f",
   "metadata": {
    "ExecuteTime": {
     "end_time": "2021-09-07T11:25:50.345903Z",
     "start_time": "2021-09-07T11:25:50.325937Z"
    }
   },
   "outputs": [],
   "source": [
    "checkerboard = np.array([[(-1)**(i+j) for i in range(8)] for j in range(8)])"
   ]
  },
  {
   "cell_type": "code",
   "execution_count": 24,
   "id": "6594429e",
   "metadata": {
    "ExecuteTime": {
     "end_time": "2021-09-07T11:27:03.645269Z",
     "start_time": "2021-09-07T11:27:03.429154Z"
    }
   },
   "outputs": [
    {
     "data": {
      "text/plain": [
       "<matplotlib.image.AxesImage at 0x1f7be6b6390>"
      ]
     },
     "execution_count": 24,
     "metadata": {},
     "output_type": "execute_result"
    },
    {
     "data": {
      "image/png": "[encoded data removed]",
      "text/plain": [
       "<Figure size 640x480 with 1 Axes>"
      ]
     },
     "metadata": {},
     "output_type": "display_data"
    }
   ],
   "source": [
    "plt.imshow(checkerboard, cmap=\"binary\")"
   ]
  }
 ],
 "metadata": {
  "kernelspec": {
   "display_name": "Python 3 (ipykernel)",
   "language": "python",
   "name": "python3"
  },
  "language_info": {
   "codemirror_mode": {
    "name": "ipython",
    "version": 3
   },
   "file_extension": ".py",
   "mimetype": "text/x-python",
   "name": "python",
   "nbconvert_exporter": "python",
   "pygments_lexer": "ipython3",
   "version": "3.11.8"
  },
  "latex_envs": {
   "LaTeX_envs_menu_present": true,
   "autoclose": true,
   "autocomplete": true,
   "bibliofile": "biblio.bib",
   "cite_by": "apalike",
   "current_citInitial": 1,
   "eqLabelWithNumbers": true,
   "eqNumInitial": 1,
   "hotkeys": {
    "equation": "Ctrl-E",
    "itemize": "Ctrl-I"
   },
   "labels_anchors": false,
   "latex_user_defs": false,
   "report_style_numbering": true,
   "user_envs_cfg": false
  },
  "toc": {
   "base_numbering": 1,
   "nav_menu": {},
   "number_sections": true,
   "sideBar": true,
   "skip_h1_title": false,
   "title_cell": "Table of Contents",
   "title_sidebar": "Contents",
   "toc_cell": false,
   "toc_position": {},
   "toc_section_display": true,
   "toc_window_display": false
  },
  "varInspector": {
   "cols": {
    "lenName": 16,
    "lenType": 16,
    "lenVar": 40
   },
   "kernels_config": {
    "python": {
     "delete_cmd_postfix": "",
     "delete_cmd_prefix": "del ",
     "library": "var_list.py",
     "varRefreshCmd": "print(var_dic_list())"
    },
    "r": {
     "delete_cmd_postfix": ") ",
     "delete_cmd_prefix": "rm(",
     "library": "var_list.r",
     "varRefreshCmd": "cat(var_dic_list()) "
    }
   },
   "types_to_exclude": [
    "module",
    "function",
    "builtin_function_or_method",
    "instance",
    "_Feature"
   ],
   "window_display": false
  }
 },
 "nbformat": 4,
 "nbformat_minor": 5
}
