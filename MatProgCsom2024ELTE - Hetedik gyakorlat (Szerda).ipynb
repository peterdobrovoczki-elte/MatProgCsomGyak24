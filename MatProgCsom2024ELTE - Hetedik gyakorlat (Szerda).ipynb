{
 "cells": [
  {
   "cell_type": "markdown",
   "id": "30997f3f",
   "metadata": {},
   "source": [
    "# Hatodik gyakorlat - LP Solverek (PuLP)"
   ]
  },
  {
   "cell_type": "code",
   "execution_count": 3,
   "id": "7c733a27",
   "metadata": {
    "ExecuteTime": {
     "end_time": "2023-03-27T14:51:31.778298Z",
     "start_time": "2023-03-27T14:51:31.683552Z"
    }
   },
   "outputs": [],
   "source": [
    "import pulp as pl\n",
    "import numpy as np\n",
    "import matplotlib.pyplot as plt\n",
    "import itertools as it"
   ]
  },
  {
   "cell_type": "markdown",
   "id": "6ca9ba00",
   "metadata": {},
   "source": [
    "# Modellezés PuLP-pal"
   ]
  },
  {
   "cell_type": "markdown",
   "id": "b720ba11",
   "metadata": {},
   "source": [
    "Modell létrehozása PuLP-pal:"
   ]
  },
  {
   "cell_type": "code",
   "execution_count": 2,
   "id": "3c847fae",
   "metadata": {
    "ExecuteTime": {
     "end_time": "2023-03-27T08:23:46.498794Z",
     "start_time": "2023-03-27T08:23:46.493808Z"
    }
   },
   "outputs": [],
   "source": [
    "prob = pl.LpProblem(name=\"ProblemName\",\n",
    "                    sense=pl.LpMaximize) # vagy pl.LpMinimize (ez a default)"
   ]
  },
  {
   "cell_type": "markdown",
   "id": "13ff207c",
   "metadata": {},
   "source": [
    "Változók létrehozása:"
   ]
  },
  {
   "cell_type": "code",
   "execution_count": 3,
   "id": "3774e305",
   "metadata": {
    "ExecuteTime": {
     "end_time": "2023-03-27T08:23:48.457845Z",
     "start_time": "2023-03-27T08:23:48.453856Z"
    }
   },
   "outputs": [],
   "source": [
    "x = pl.LpVariable(name=\"x\",\n",
    "                  lowBound=1,\n",
    "                  upBound=10,\n",
    "                  cat=pl.LpInteger) # vagy pl.LpContinuous vagy pl.LpBinary"
   ]
  },
  {
   "cell_type": "markdown",
   "id": "2da6765b",
   "metadata": {},
   "source": [
    "Változók létrehozás dictionary-ként:"
   ]
  },
  {
   "cell_type": "code",
   "execution_count": 6,
   "id": "7962059e",
   "metadata": {
    "ExecuteTime": {
     "end_time": "2023-03-27T08:23:49.403318Z",
     "start_time": "2023-03-27T08:23:49.397334Z"
    }
   },
   "outputs": [],
   "source": [
    "idx = [\"I1\", \"I2\", \"A1\", \"A2\"]\n",
    "y = pl.LpVariable.dicts(name=\"y\",\n",
    "                        indices=idx,\n",
    "                        cat=pl.LpBinary)"
   ]
  },
  {
   "cell_type": "markdown",
   "id": "e9ab36a0",
   "metadata": {},
   "source": [
    "Korlátok hozzáadása a modellhez:"
   ]
  },
  {
   "cell_type": "code",
   "execution_count": 7,
   "id": "da79b777",
   "metadata": {
    "ExecuteTime": {
     "end_time": "2023-03-27T08:23:51.405813Z",
     "start_time": "2023-03-27T08:23:51.400827Z"
    }
   },
   "outputs": [],
   "source": [
    "prob += x + y[\"I1\"] <= 2, \"elso constraint\"\n",
    "prob += pl.lpSum(y) == 3, \"masodik constraint\"\n",
    "prob += x + y[\"A1\"] >= 3"
   ]
  },
  {
   "cell_type": "markdown",
   "id": "b0edda48",
   "metadata": {},
   "source": [
    "Célfüggvény hozzáadása a modellhez:"
   ]
  },
  {
   "cell_type": "code",
   "execution_count": 8,
   "id": "4c848e71",
   "metadata": {
    "ExecuteTime": {
     "end_time": "2023-03-27T08:23:52.242407Z",
     "start_time": "2023-03-27T08:23:52.237420Z"
    }
   },
   "outputs": [],
   "source": [
    "cost = {\n",
    "    \"I1\" : 5,\n",
    "    \"I2\" : 2,\n",
    "    \"A1\" : 3,\n",
    "    \"A2\" : 4\n",
    "}\n",
    "prob += pl.lpSum(y[i] * cost[i] for i in idx)"
   ]
  },
  {
   "cell_type": "markdown",
   "id": "ffa154f8",
   "metadata": {},
   "source": [
    "Modell kiírása:"
   ]
  },
  {
   "cell_type": "code",
   "execution_count": 9,
   "id": "755fdb25",
   "metadata": {
    "ExecuteTime": {
     "end_time": "2023-03-27T08:23:54.164229Z",
     "start_time": "2023-03-27T08:23:54.159275Z"
    }
   },
   "outputs": [
    {
     "name": "stdout",
     "output_type": "stream",
     "text": [
      "ProblemName:\n",
      "MAXIMIZE\n",
      "3*y_A1 + 4*y_A2 + 5*y_I1 + 2*y_I2 + 0\n",
      "SUBJECT TO\n",
      "elso_constraint: x + y_I1 <= 2\n",
      "\n",
      "masodik_constraint: y_A1 + y_A2 + y_I1 + y_I2 = 3\n",
      "\n",
      "_C1: x + y_A1 >= 3\n",
      "\n",
      "VARIABLES\n",
      "1 <= x <= 10 Integer\n",
      "0 <= y_A1 <= 1 Integer\n",
      "0 <= y_A2 <= 1 Integer\n",
      "0 <= y_I1 <= 1 Integer\n",
      "0 <= y_I2 <= 1 Integer\n",
      "\n"
     ]
    }
   ],
   "source": [
    "print(prob)"
   ]
  },
  {
   "cell_type": "markdown",
   "id": "0ad06fa8",
   "metadata": {},
   "source": [
    "Modell megoldása:"
   ]
  },
  {
   "cell_type": "code",
   "execution_count": 10,
   "id": "7577ba68",
   "metadata": {
    "ExecuteTime": {
     "end_time": "2023-03-27T08:23:56.030703Z",
     "start_time": "2023-03-27T08:23:55.800790Z"
    }
   },
   "outputs": [
    {
     "data": {
      "text/plain": [
       "1"
      ]
     },
     "execution_count": 10,
     "metadata": {},
     "output_type": "execute_result"
    }
   ],
   "source": [
    "prob.solve()"
   ]
  },
  {
   "cell_type": "markdown",
   "id": "0a7fe1f7",
   "metadata": {
    "ExecuteTime": {
     "end_time": "2021-10-12T09:41:01.927436Z",
     "start_time": "2021-10-12T09:41:01.907991Z"
    }
   },
   "source": [
    "Probléma állapotok:"
   ]
  },
  {
   "cell_type": "code",
   "execution_count": 11,
   "id": "7d827619",
   "metadata": {
    "ExecuteTime": {
     "end_time": "2023-03-27T08:23:57.992271Z",
     "start_time": "2023-03-27T08:23:57.986286Z"
    },
    "scrolled": false
   },
   "outputs": [
    {
     "data": {
      "text/plain": [
       "{0: 'Not Solved',\n",
       " 1: 'Optimal',\n",
       " -1: 'Infeasible',\n",
       " -2: 'Unbounded',\n",
       " -3: 'Undefined'}"
      ]
     },
     "execution_count": 11,
     "metadata": {},
     "output_type": "execute_result"
    }
   ],
   "source": [
    "pl.LpStatus"
   ]
  },
  {
   "cell_type": "markdown",
   "id": "02f38524",
   "metadata": {},
   "source": [
    "Megoldás \"megszerzése\":"
   ]
  },
  {
   "cell_type": "code",
   "execution_count": 12,
   "id": "d9266bbf",
   "metadata": {
    "ExecuteTime": {
     "end_time": "2023-03-27T08:24:00.230547Z",
     "start_time": "2023-03-27T08:24:00.223564Z"
    }
   },
   "outputs": [
    {
     "name": "stdout",
     "output_type": "stream",
     "text": [
      "x= 2.0\n",
      "y_I1 = 0.0\n",
      "y_I2 = 1.0\n",
      "y_A1 = 1.0\n",
      "y_A2 = 1.0\n"
     ]
    }
   ],
   "source": [
    "print(\"x=\",pl.value(x))\n",
    "for i in idx:\n",
    "    print(y[i].name, \"=\", pl.value(y[i]))"
   ]
  },
  {
   "cell_type": "markdown",
   "id": "b6e47c5e",
   "metadata": {},
   "source": [
    "Célfüggvényérték:"
   ]
  },
  {
   "cell_type": "code",
   "execution_count": 13,
   "id": "1d8461d4",
   "metadata": {
    "ExecuteTime": {
     "end_time": "2023-03-27T08:24:02.668835Z",
     "start_time": "2023-03-27T08:24:02.662885Z"
    }
   },
   "outputs": [
    {
     "data": {
      "text/plain": [
       "9.0"
      ]
     },
     "execution_count": 13,
     "metadata": {},
     "output_type": "execute_result"
    }
   ],
   "source": [
    "pl.value(prob.objective)"
   ]
  },
  {
   "cell_type": "markdown",
   "id": "cd0ea47e",
   "metadata": {},
   "source": [
    "Korlátok ellenőrzése:\n",
    "\n",
    "Azt mutatja, hogy például egy $ax\\leq b$ korlát esetén mennyi az $ax-b$ értéke. Ezeknek egyenlőség esetén nyilván $0$-nak kell lenni."
   ]
  },
  {
   "cell_type": "code",
   "execution_count": 14,
   "id": "ae17163a",
   "metadata": {
    "ExecuteTime": {
     "end_time": "2023-03-27T08:24:04.994166Z",
     "start_time": "2023-03-27T08:24:04.988152Z"
    }
   },
   "outputs": [
    {
     "name": "stdout",
     "output_type": "stream",
     "text": [
      "0.0\n",
      "0.0\n",
      "0.0\n"
     ]
    }
   ],
   "source": [
    "print(pl.value(prob.constraints[\"_C1\"]))\n",
    "print(pl.value(prob.constraints[\"elso_constraint\"]))\n",
    "print(pl.value(prob.constraints[\"masodik_constraint\"]))"
   ]
  },
  {
   "cell_type": "markdown",
   "id": "98768c27",
   "metadata": {},
   "source": [
    "Korlát törlése:"
   ]
  },
  {
   "cell_type": "code",
   "execution_count": 15,
   "id": "d17d502e",
   "metadata": {
    "ExecuteTime": {
     "end_time": "2023-03-27T08:24:07.019138Z",
     "start_time": "2023-03-27T08:24:07.013149Z"
    }
   },
   "outputs": [
    {
     "name": "stdout",
     "output_type": "stream",
     "text": [
      "ProblemName:\n",
      "MAXIMIZE\n",
      "3*y_A1 + 4*y_A2 + 5*y_I1 + 2*y_I2 + 0\n",
      "SUBJECT TO\n",
      "elso_constraint: x + y_I1 <= 2\n",
      "\n",
      "masodik_constraint: y_A1 + y_A2 + y_I1 + y_I2 = 3\n",
      "\n",
      "VARIABLES\n",
      "1 <= x <= 10 Integer\n",
      "0 <= y_A1 <= 1 Integer\n",
      "0 <= y_A2 <= 1 Integer\n",
      "0 <= y_I1 <= 1 Integer\n",
      "0 <= y_I2 <= 1 Integer\n",
      "\n"
     ]
    }
   ],
   "source": [
    "del prob.constraints[\"_C1\"]\n",
    "print(prob)"
   ]
  },
  {
   "cell_type": "markdown",
   "id": "52f22a3b",
   "metadata": {},
   "source": [
    "Változó korlátok módosítása:"
   ]
  },
  {
   "cell_type": "code",
   "execution_count": 16,
   "id": "4f31a81e",
   "metadata": {
    "ExecuteTime": {
     "end_time": "2023-03-27T08:24:08.870420Z",
     "start_time": "2023-03-27T08:24:08.866429Z"
    }
   },
   "outputs": [
    {
     "name": "stdout",
     "output_type": "stream",
     "text": [
      "ProblemName:\n",
      "MAXIMIZE\n",
      "3*y_A1 + 4*y_A2 + 5*y_I1 + 2*y_I2 + 0\n",
      "SUBJECT TO\n",
      "elso_constraint: x + y_I1 <= 2\n",
      "\n",
      "masodik_constraint: y_A1 + y_A2 + y_I1 + y_I2 = 3\n",
      "\n",
      "VARIABLES\n",
      "2 <= x <= 4 Integer\n",
      "0 <= y_A1 <= 1 Integer\n",
      "0 <= y_A2 <= 1 Integer\n",
      "0 <= y_I1 <= 1 Integer\n",
      "0 <= y_I2 <= 1 Integer\n",
      "\n"
     ]
    }
   ],
   "source": [
    "x.lowBound=2\n",
    "x.upBound=4\n",
    "print(prob)"
   ]
  },
  {
   "cell_type": "markdown",
   "id": "a49e0805",
   "metadata": {},
   "source": [
    "Változó típusának módosítása:"
   ]
  },
  {
   "cell_type": "code",
   "execution_count": 17,
   "id": "36b8a166",
   "metadata": {
    "ExecuteTime": {
     "end_time": "2023-03-27T08:24:10.609624Z",
     "start_time": "2023-03-27T08:24:10.602681Z"
    }
   },
   "outputs": [
    {
     "name": "stdout",
     "output_type": "stream",
     "text": [
      "ProblemName:\n",
      "MAXIMIZE\n",
      "3*y_A1 + 4*y_A2 + 5*y_I1 + 2*y_I2 + 0\n",
      "SUBJECT TO\n",
      "elso_constraint: x + y_I1 <= 2\n",
      "\n",
      "masodik_constraint: y_A1 + y_A2 + y_I1 + y_I2 = 3\n",
      "\n",
      "VARIABLES\n",
      "2 <= x <= 4 Integer\n",
      "0 <= y_A1 <= 3 Integer\n",
      "0 <= y_A2 <= 1 Integer\n",
      "0 <= y_I1 <= 1 Integer\n",
      "0 <= y_I2 <= 1 Integer\n",
      "\n"
     ]
    }
   ],
   "source": [
    "y[\"A1\"].cat = pl.LpInteger\n",
    "y[\"A1\"].lowBound = 0\n",
    "y[\"A1\"].upBound = 3\n",
    "print(prob)"
   ]
  },
  {
   "cell_type": "markdown",
   "id": "7804218b",
   "metadata": {},
   "source": [
    "# Feladatok"
   ]
  },
  {
   "cell_type": "markdown",
   "id": "6765d5b9",
   "metadata": {},
   "source": [
    "## Keverési feladat\n",
    "\n",
    "Szeretnénk kikeverni $25$ tonna speciális összetételű acélt különböző acéltömbökből. A kapott keveréknek az $5\\%$-a legyen szén és $5\\%$-a molibdén. Négy féle acél áll rendelkezésünkre, mindegyiket tömb formájában lehet megvenni, és mindegyikből legfeljebb $1$-et. A tömbök összetétele:\n",
    "\n",
    "| Tömb | Súly (tonna) | Szén (%) | Molibdén (%) | Ár (\\$/tonna) |\n",
    "| ---- | ------------ | -------- | ------------ | ------------- |\n",
    "| 1    | 5            | 5        | 3            | 350           |\n",
    "| 2    | 3            | 4        | 3            | 330           |\n",
    "| 3    | 4            | 5        | 4            | 310           |\n",
    "| 4    | 6            | 3        | 4            | 280           |\n",
    "\n",
    "Ezen kívül megvásárolható $3$ féle ötvözet is, illetve hulladékfémet is tudunk venni. Ezekből törtmennyiségeket is lehet vásárolni. Az összetételük:\n",
    "\n",
    "| Ötvözet  | Szén (%) | Molibdén (%) | Ár (\\$/tonna) |\n",
    "| -------- | -------- | ------------ | ------------- |\n",
    "| 1        | 8        | 6            | 500           |\n",
    "| 2        | 7        | 7            | 450           |\n",
    "| 3        | 6        | 8            | 400           |\n",
    "| Hulladék | 3        | 9            | 100           |\n",
    "\n",
    "A cél a lehető legolcsóbban előállítani a kívánt ötvözetet."
   ]
  },
  {
   "cell_type": "code",
   "execution_count": null,
   "id": "1203d8e5",
   "metadata": {},
   "outputs": [],
   "source": [
    "# problem data\n",
    "# I1, ..., I4 : ingots (tömbök)\n",
    "# A1, A2, A3  : alloys (ötvözetek)\n",
    "# S           : scrap (hulladék)\n",
    "carbon = {\n",
    "    \"I1\" : 0.05,\n",
    "    \"I2\" : 0.04,\n",
    "    \"I3\" : 0.05,\n",
    "    \"I4\" : 0.03,\n",
    "    \"A1\" : 0.08,\n",
    "    \"A2\" : 0.07,\n",
    "    \"A3\" : 0.06,\n",
    "    \"S\"  : 0.03\n",
    "}\n",
    "\n",
    "molybdenium = {\n",
    "    \"I1\" : 0.03,\n",
    "    \"I2\" : 0.03,\n",
    "    \"I3\" : 0.04,\n",
    "    \"I4\" : 0.04,\n",
    "    \"A1\" : 0.06,\n",
    "    \"A2\" : 0.07,\n",
    "    \"A3\" : 0.08,\n",
    "    \"S\"  : 0.09\n",
    "}\n",
    "\n",
    "weight = {\n",
    "    \"I1\" : 5,\n",
    "    \"I2\" : 3,\n",
    "    \"I3\" : 4,\n",
    "    \"I4\" : 6\n",
    "}\n",
    "\n",
    "\n",
    "cost = {\n",
    "    \"I1\" : 350,\n",
    "    \"I2\" : 330,\n",
    "    \"I3\" : 310,\n",
    "    \"I4\" : 280,\n",
    "    \"A1\" : 500,\n",
    "    \"A2\" : 450,\n",
    "    \"A3\" : 400,\n",
    "    \"S\"  : 100\n",
    "}"
   ]
  },
  {
   "cell_type": "code",
   "execution_count": null,
   "id": "4a174929",
   "metadata": {},
   "outputs": [],
   "source": []
  },
  {
   "cell_type": "markdown",
   "id": "b336f5b1",
   "metadata": {},
   "source": [
    "## Sudoku\n",
    "Készítsd el a Sudoku feladat IP modelljét és oldd meg! A megoldást vizualizáld! \n",
    "\n",
    "__Bónusz:__ oldd meg a világ legnehezebb sudokuját: https://abcnews.go.com/blogs/headlines/2012/06/can-you-solve-the-hardest-ever-sudoku"
   ]
  },
  {
   "cell_type": "code",
   "execution_count": null,
   "id": "1e55aeb3",
   "metadata": {},
   "outputs": [],
   "source": []
  },
  {
   "cell_type": "markdown",
   "id": "bb6e072a",
   "metadata": {},
   "source": [
    "## Legkisebb abszolút eltérés\n",
    "\n",
    "Adottak $(x_1,y_1),(x_2,y_2),\\dots,(x_n,y_n)$ pontok, és szeretnék rájuk illeszteni egy egyenest, amelynek a lehető legkisebb az abszolút eltérése a pontoktól. Vagyis keressük azt az $a$ és $b$ paramétert, ami minimalizálja a\n",
    "\n",
    "$$\n",
    "    \\sum_{i=1}^n \\left|a x_i+b-y_i\\right|\n",
    "$$\n",
    "\n",
    "összeget. \n",
    "- Modellezd LP-ként!\n",
    "- Generálj random pontokat (például vegyél egy egyenest, azon véletlen pontokat és told el őket valamekkora szimmetrikus errorral) és oldd meg a feladatot!\n",
    "- Ábrázold a kapott regressziós egyenest és a pontokat!\n",
    "\n",
    "_Hint: nyilván valami trükköt kell alkalmazni, mivel az abszolutérték függvény nem lineáris._"
   ]
  },
  {
   "cell_type": "code",
   "execution_count": null,
   "id": "11e25b09",
   "metadata": {},
   "outputs": [],
   "source": []
  },
  {
   "cell_type": "markdown",
   "id": "8e3c13da",
   "metadata": {},
   "source": [
    "## Bútorlap-szabászat\n",
    "\n",
    "Tegyük fel, hogy van egy $W\\times H$ méretű téglalap alapú bútorlapom, és $n$ darab kisebb darabot szeretnék kivágni belőle. Az $i$. darab $w_i\\times h_i$ méretű téglalap. Készíts el egy modellt, amellyel el lehet dönteni, hogy ki tudom-e vágni a bútorlapokat.\n",
    "\n",
    "Legyen most $W=3\\mathrm{m}$, $H=4\\mathrm{m}$ és legyen 4 darab, amit ki akarunk vágni:\n",
    "\n",
    "| Munkadarab | Szélesség (m) | Magasság (m) |\n",
    "| ---------- | ------------- | ------------ |\n",
    "| i1         | 1             | 3            |\n",
    "| i2         | 2             | 1            |\n",
    "| i3         | 2             | 2            |\n",
    "| i4         | 3             | 1            |\n",
    "\n",
    "Ki tudjuk-e vágni őket a bútorlapból, és ha igen, hogyan?\n",
    "__Bónusz:__ rajzold is ki az elrendezést!"
   ]
  },
  {
   "cell_type": "code",
   "execution_count": null,
   "id": "b957af00",
   "metadata": {},
   "outputs": [],
   "source": []
  }
 ],
 "metadata": {
  "kernelspec": {
   "display_name": "Python 3",
   "language": "python",
   "name": "python3"
  },
  "language_info": {
   "codemirror_mode": {
    "name": "ipython",
    "version": 3
   },
   "file_extension": ".py",
   "mimetype": "text/x-python",
   "name": "python",
   "nbconvert_exporter": "python",
   "pygments_lexer": "ipython3",
   "version": "3.11.8"
  },
  "latex_envs": {
   "LaTeX_envs_menu_present": true,
   "autoclose": true,
   "autocomplete": true,
   "bibliofile": "biblio.bib",
   "cite_by": "apalike",
   "current_citInitial": 1,
   "eqLabelWithNumbers": true,
   "eqNumInitial": 1,
   "hotkeys": {
    "equation": "Ctrl-E",
    "itemize": "Ctrl-I"
   },
   "labels_anchors": false,
   "latex_user_defs": false,
   "report_style_numbering": true,
   "user_envs_cfg": false
  },
  "toc": {
   "base_numbering": 1,
   "nav_menu": {},
   "number_sections": true,
   "sideBar": true,
   "skip_h1_title": false,
   "title_cell": "Table of Contents",
   "title_sidebar": "Contents",
   "toc_cell": false,
   "toc_position": {},
   "toc_section_display": true,
   "toc_window_display": false
  },
  "varInspector": {
   "cols": {
    "lenName": 16,
    "lenType": 16,
    "lenVar": 40
   },
   "kernels_config": {
    "python": {
     "delete_cmd_postfix": "",
     "delete_cmd_prefix": "del ",
     "library": "var_list.py",
     "varRefreshCmd": "print(var_dic_list())"
    },
    "r": {
     "delete_cmd_postfix": ") ",
     "delete_cmd_prefix": "rm(",
     "library": "var_list.r",
     "varRefreshCmd": "cat(var_dic_list()) "
    }
   },
   "types_to_exclude": [
    "module",
    "function",
    "builtin_function_or_method",
    "instance",
    "_Feature"
   ],
   "window_display": false
  }
 },
 "nbformat": 4,
 "nbformat_minor": 5
}
