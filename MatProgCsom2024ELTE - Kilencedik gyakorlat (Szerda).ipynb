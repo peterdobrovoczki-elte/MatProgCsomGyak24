{
 "cells": [
  {
   "cell_type": "markdown",
   "metadata": {
    "id": "UIlAvlFt7mpY"
   },
   "source": [
    "# Deep learning - Karakterfelismerés az MNIST adathalmazzal a Tensorflow és Keras könyvtárakkal"
   ]
  },
  {
   "cell_type": "code",
   "execution_count": 55,
   "metadata": {
    "id": "vFWEmkKszI4Y"
   },
   "outputs": [],
   "source": [
    "from tensorflow.keras.datasets import mnist\n",
    "import tensorflow as tf\n",
    "from matplotlib import pyplot as plt"
   ]
  },
  {
   "cell_type": "code",
   "execution_count": 177,
   "metadata": {
    "id": "RQPQD0DA7dBO"
   },
   "outputs": [],
   "source": [
    "(trainX, trainy), (testX, testy) = mnist.load_data()"
   ]
  },
  {
   "cell_type": "markdown",
   "metadata": {
    "id": "lwcRiBTtefek"
   },
   "source": [
    "## Az adat:\n",
    "Összesen 70000 darab, $28\\times 28$-as, szürkeárnyalatos kép a $0,1,2,3,4,5,6,7,8,9$ számjegyekről. Szeretnénk felismerni, hogy az egyes képek melyik számot ábrázolják. Szerencsére rendelkezésünkre áll minden képhez egy címke is, ami megmondja, hogy a kép mit tartalmaz. Az osztályaink száma tehát $C=10$. Ehhez készítünk egy neurális hálót, ami fel fogja ismerni (nagyjából), hogy mely képen milyen szám szerepel."
   ]
  },
  {
   "cell_type": "code",
   "execution_count": 57,
   "metadata": {
    "colab": {
     "base_uri": "https://localhost:8080/"
    },
    "id": "GQVVULVl7jVT",
    "outputId": "e7beb165-3edf-411b-e673-84acd776499f"
   },
   "outputs": [
    {
     "data": {
      "text/plain": [
       "((60000, 28, 28), (60000,), (10000, 28, 28), (10000,))"
      ]
     },
     "execution_count": 57,
     "metadata": {},
     "output_type": "execute_result"
    }
   ],
   "source": [
    "trainX.shape, trainy.shape, testX.shape, testy.shape"
   ]
  },
  {
   "cell_type": "code",
   "execution_count": 58,
   "metadata": {
    "colab": {
     "base_uri": "https://localhost:8080/",
     "height": 433
    },
    "id": "cbIs2fj577T4",
    "outputId": "579d776a-038b-43a7-d0a9-356ec9f394d8"
   },
   "outputs": [
    {
     "data": {
      "image/png": "[encoded data removed]",
      "text/plain": [
       "<Figure size 640x480 with 9 Axes>"
      ]
     },
     "metadata": {},
     "output_type": "display_data"
    }
   ],
   "source": [
    "fig, ax = plt.subplots(3,3)\n",
    "for i in range(3):\n",
    "    for j in range(3):\n",
    "        ax[i,j].imshow(trainX[i*3+j], cmap=\"gray\")\n",
    "\n",
    "plt.show()\n"
   ]
  },
  {
   "cell_type": "code",
   "execution_count": 59,
   "metadata": {
    "colab": {
     "base_uri": "https://localhost:8080/"
    },
    "id": "uqTvsvVy9uD7",
    "outputId": "37c8332e-6327-4ede-df44-67a80cf7d0af"
   },
   "outputs": [
    {
     "data": {
      "text/plain": [
       "array([5, 0, 4, 1, 9, 2, 1, 3, 1], dtype=uint8)"
      ]
     },
     "execution_count": 59,
     "metadata": {},
     "output_type": "execute_result"
    }
   ],
   "source": [
    "trainy[:9]"
   ]
  },
  {
   "cell_type": "code",
   "execution_count": 60,
   "metadata": {
    "colab": {
     "base_uri": "https://localhost:8080/"
    },
    "id": "auBWv5CD-XOA",
    "outputId": "ceb3d7cd-8d68-4595-e84c-57a84ba8c5d4"
   },
   "outputs": [
    {
     "data": {
      "text/plain": [
       "array([[  0,   0,   0,   0,   0,   0,   0,   0,   0,   0,   0,   0,   0,\n",
       "          0,   0,   0,   0,   0,   0,   0,   0,   0,   0,   0,   0,   0,\n",
       "          0,   0],\n",
       "       [  0,   0,   0,   0,   0,   0,   0,   0,   0,   0,   0,   0,   0,\n",
       "          0,   0,   0,   0,   0,   0,   0,   0,   0,   0,   0,   0,   0,\n",
       "          0,   0],\n",
       "       [  0,   0,   0,   0,   0,   0,   0,   0,   0,   0,   0,   0,   0,\n",
       "          0,   0,   0,   0,   0,   0,   0,   0,   0,   0,   0,   0,   0,\n",
       "          0,   0],\n",
       "       [  0,   0,   0,   0,   0,   0,   0,   0,   0,   0,   0,   0,   0,\n",
       "          0,   0,   0,   0,   0,   0,   0,   0,   0,   0,   0,   0,   0,\n",
       "          0,   0],\n",
       "       [  0,   0,   0,   0,   0,   0,   0,   0,   0,   0,   0,   0,   0,\n",
       "          0,   0,   0,   0,   0,   0,   0,   0,   0,   0,   0,   0,   0,\n",
       "          0,   0],\n",
       "       [  0,   0,   0,   0,   0,   0,   0,   0,   0,   0,   0,   0,   3,\n",
       "         18,  18,  18, 126, 136, 175,  26, 166, 255, 247, 127,   0,   0,\n",
       "          0,   0],\n",
       "       [  0,   0,   0,   0,   0,   0,   0,   0,  30,  36,  94, 154, 170,\n",
       "        253, 253, 253, 253, 253, 225, 172, 253, 242, 195,  64,   0,   0,\n",
       "          0,   0],\n",
       "       [  0,   0,   0,   0,   0,   0,   0,  49, 238, 253, 253, 253, 253,\n",
       "        253, 253, 253, 253, 251,  93,  82,  82,  56,  39,   0,   0,   0,\n",
       "          0,   0],\n",
       "       [  0,   0,   0,   0,   0,   0,   0,  18, 219, 253, 253, 253, 253,\n",
       "        253, 198, 182, 247, 241,   0,   0,   0,   0,   0,   0,   0,   0,\n",
       "          0,   0],\n",
       "       [  0,   0,   0,   0,   0,   0,   0,   0,  80, 156, 107, 253, 253,\n",
       "        205,  11,   0,  43, 154,   0,   0,   0,   0,   0,   0,   0,   0,\n",
       "          0,   0],\n",
       "       [  0,   0,   0,   0,   0,   0,   0,   0,   0,  14,   1, 154, 253,\n",
       "         90,   0,   0,   0,   0,   0,   0,   0,   0,   0,   0,   0,   0,\n",
       "          0,   0],\n",
       "       [  0,   0,   0,   0,   0,   0,   0,   0,   0,   0,   0, 139, 253,\n",
       "        190,   2,   0,   0,   0,   0,   0,   0,   0,   0,   0,   0,   0,\n",
       "          0,   0],\n",
       "       [  0,   0,   0,   0,   0,   0,   0,   0,   0,   0,   0,  11, 190,\n",
       "        253,  70,   0,   0,   0,   0,   0,   0,   0,   0,   0,   0,   0,\n",
       "          0,   0],\n",
       "       [  0,   0,   0,   0,   0,   0,   0,   0,   0,   0,   0,   0,  35,\n",
       "        241, 225, 160, 108,   1,   0,   0,   0,   0,   0,   0,   0,   0,\n",
       "          0,   0],\n",
       "       [  0,   0,   0,   0,   0,   0,   0,   0,   0,   0,   0,   0,   0,\n",
       "         81, 240, 253, 253, 119,  25,   0,   0,   0,   0,   0,   0,   0,\n",
       "          0,   0],\n",
       "       [  0,   0,   0,   0,   0,   0,   0,   0,   0,   0,   0,   0,   0,\n",
       "          0,  45, 186, 253, 253, 150,  27,   0,   0,   0,   0,   0,   0,\n",
       "          0,   0],\n",
       "       [  0,   0,   0,   0,   0,   0,   0,   0,   0,   0,   0,   0,   0,\n",
       "          0,   0,  16,  93, 252, 253, 187,   0,   0,   0,   0,   0,   0,\n",
       "          0,   0],\n",
       "       [  0,   0,   0,   0,   0,   0,   0,   0,   0,   0,   0,   0,   0,\n",
       "          0,   0,   0,   0, 249, 253, 249,  64,   0,   0,   0,   0,   0,\n",
       "          0,   0],\n",
       "       [  0,   0,   0,   0,   0,   0,   0,   0,   0,   0,   0,   0,   0,\n",
       "          0,  46, 130, 183, 253, 253, 207,   2,   0,   0,   0,   0,   0,\n",
       "          0,   0],\n",
       "       [  0,   0,   0,   0,   0,   0,   0,   0,   0,   0,   0,   0,  39,\n",
       "        148, 229, 253, 253, 253, 250, 182,   0,   0,   0,   0,   0,   0,\n",
       "          0,   0],\n",
       "       [  0,   0,   0,   0,   0,   0,   0,   0,   0,   0,  24, 114, 221,\n",
       "        253, 253, 253, 253, 201,  78,   0,   0,   0,   0,   0,   0,   0,\n",
       "          0,   0],\n",
       "       [  0,   0,   0,   0,   0,   0,   0,   0,  23,  66, 213, 253, 253,\n",
       "        253, 253, 198,  81,   2,   0,   0,   0,   0,   0,   0,   0,   0,\n",
       "          0,   0],\n",
       "       [  0,   0,   0,   0,   0,   0,  18, 171, 219, 253, 253, 253, 253,\n",
       "        195,  80,   9,   0,   0,   0,   0,   0,   0,   0,   0,   0,   0,\n",
       "          0,   0],\n",
       "       [  0,   0,   0,   0,  55, 172, 226, 253, 253, 253, 253, 244, 133,\n",
       "         11,   0,   0,   0,   0,   0,   0,   0,   0,   0,   0,   0,   0,\n",
       "          0,   0],\n",
       "       [  0,   0,   0,   0, 136, 253, 253, 253, 212, 135, 132,  16,   0,\n",
       "          0,   0,   0,   0,   0,   0,   0,   0,   0,   0,   0,   0,   0,\n",
       "          0,   0],\n",
       "       [  0,   0,   0,   0,   0,   0,   0,   0,   0,   0,   0,   0,   0,\n",
       "          0,   0,   0,   0,   0,   0,   0,   0,   0,   0,   0,   0,   0,\n",
       "          0,   0],\n",
       "       [  0,   0,   0,   0,   0,   0,   0,   0,   0,   0,   0,   0,   0,\n",
       "          0,   0,   0,   0,   0,   0,   0,   0,   0,   0,   0,   0,   0,\n",
       "          0,   0],\n",
       "       [  0,   0,   0,   0,   0,   0,   0,   0,   0,   0,   0,   0,   0,\n",
       "          0,   0,   0,   0,   0,   0,   0,   0,   0,   0,   0,   0,   0,\n",
       "          0,   0]], dtype=uint8)"
      ]
     },
     "execution_count": 60,
     "metadata": {},
     "output_type": "execute_result"
    }
   ],
   "source": [
    "trainX[0]"
   ]
  },
  {
   "cell_type": "markdown",
   "metadata": {
    "id": "HuJlmNfxc7qj"
   },
   "source": [
    "### Normalizáljuk a rétegeket:\n",
    "Átkonvertáljuk őket `float32` típusra, majd leosztjuk a maximális pixelintenzitással, ami 255. Így minden pixel értéke 0 és 1 közé fog esni."
   ]
  },
  {
   "cell_type": "code",
   "execution_count": 61,
   "metadata": {
    "id": "1pcn8mHg-NH9"
   },
   "outputs": [],
   "source": [
    "trainX = trainX.astype(\"float32\")/255\n",
    "testX = testX.astype(\"float32\")/255"
   ]
  },
  {
   "cell_type": "code",
   "execution_count": 62,
   "metadata": {
    "colab": {
     "base_uri": "https://localhost:8080/"
    },
    "id": "rjWV4irT-iUw",
    "outputId": "736e7c7c-f11c-4851-8368-297fb5a27282"
   },
   "outputs": [
    {
     "data": {
      "text/plain": [
       "(0.0, 1.0)"
      ]
     },
     "execution_count": 62,
     "metadata": {},
     "output_type": "execute_result"
    }
   ],
   "source": [
    "trainX[0].min(), trainX[0].max()"
   ]
  },
  {
   "cell_type": "markdown",
   "metadata": {
    "id": "gT_lWINndPt3"
   },
   "source": [
    "### Átalakítjuk a címkéket:\n",
    "Az úgynevezett _one-hot_ kódolásra: egy $y$ címkét leképezünk az $y'\\in\\left\\{0,1\\right\\}^C$ címkére, ahol $y'_i=\\chi(y=i)$. Vagyis:\n",
    "$$ 5\\mapsto \\left(0,0,0,0,0,1,0,0,0,0\\right).$$"
   ]
  },
  {
   "cell_type": "code",
   "execution_count": 63,
   "metadata": {
    "id": "WLEjXLnyChjW"
   },
   "outputs": [],
   "source": [
    "trainy = tf.keras.utils.to_categorical(trainy)\n",
    "testy = tf.keras.utils.to_categorical(testy)"
   ]
  },
  {
   "cell_type": "code",
   "execution_count": 64,
   "metadata": {
    "colab": {
     "base_uri": "https://localhost:8080/"
    },
    "id": "l4CiSyh0Cw0g",
    "outputId": "3209f5cc-8858-4623-910c-dde48b092300"
   },
   "outputs": [
    {
     "data": {
      "text/plain": [
       "array([0., 0., 0., 0., 0., 1., 0., 0., 0., 0.], dtype=float32)"
      ]
     },
     "execution_count": 64,
     "metadata": {},
     "output_type": "execute_result"
    }
   ],
   "source": [
    "trainy[0]"
   ]
  },
  {
   "cell_type": "code",
   "execution_count": 90,
   "metadata": {
    "id": "QNR5TPwbiKb6"
   },
   "outputs": [],
   "source": [
    "X = testX[0].reshape((1,28,28,1))\n",
    "y = testy[0]"
   ]
  },
  {
   "cell_type": "markdown",
   "metadata": {
    "id": "YccidBbtfXV8"
   },
   "source": [
    "## Elkészítjük a modellt:\n",
    "Valójában a modellünk egy nagy $f_\\theta:\\mathcal{X}\\to\\mathbb{R}^C$ függvény lesz, valamilyen $\\theta$ paraméterekkel. A cél a megfelelő paraméterek megtalálása.\n",
    "\n",
    "Egy szekvenciális modellt készítünk, ami azt jelenti nagyjából, hogy az $f_\\theta$ függvényt egyéb függvények kompozíciójaként állítjuk elő:\n",
    "\n",
    "$$\n",
    "f_\\theta = f_{\\theta_1}∘f_{\\theta_2}\\circ\\ldots\\circ f_{\\theta_n}\n",
    "$$\n",
    "\n",
    "Ezek a függvény alkotják a neurális háló _rétegeit_."
   ]
  },
  {
   "cell_type": "code",
   "execution_count": 66,
   "metadata": {
    "id": "ppowuYy9-34a"
   },
   "outputs": [],
   "source": [
    "model = tf.keras.Sequential()"
   ]
  },
  {
   "cell_type": "markdown",
   "metadata": {
    "id": "pgzACKw_gU4j"
   },
   "source": [
    "### Konvolúciós réteg:\n",
    "\n",
    "Ez a típusú réteg gyakran használatos a _\"gépi látás\"_ területén, a részletekért nézd meg [ezt](https://towardsdatascience.com/gentle-dive-into-math-behind-convolutional-neural-networks-79a07dd44cf9)."
   ]
  },
  {
   "cell_type": "code",
   "execution_count": 67,
   "metadata": {
    "id": "RLQ4U18S_Ge7"
   },
   "outputs": [],
   "source": [
    "conv_layer = tf.keras.layers.Conv2D(32,\n",
    "                                 (3, 3),\n",
    "                                 activation='relu',\n",
    "                                 kernel_initializer='he_uniform',\n",
    "                                 input_shape=(28, 28, 1))"
   ]
  },
  {
   "cell_type": "code",
   "execution_count": 68,
   "metadata": {
    "colab": {
     "base_uri": "https://localhost:8080/"
    },
    "id": "YjV5WwoLlm3l",
    "outputId": "e3178ff1-5cd1-48ac-f63b-db2df5df0902"
   },
   "outputs": [
    {
     "data": {
      "text/plain": [
       "TensorShape([1, 26, 26, 32])"
      ]
     },
     "execution_count": 68,
     "metadata": {},
     "output_type": "execute_result"
    }
   ],
   "source": [
    "conv_layer(X).shape"
   ]
  },
  {
   "cell_type": "markdown",
   "metadata": {
    "id": "-JOQzbJlgwpy"
   },
   "source": [
    "### Max pooling réteg:\n",
    "\n",
    "A max pooling rétegről többet [itt](https://machinelearningmastery.com/pooling-layers-for-convolutional-neural-networks/)."
   ]
  },
  {
   "cell_type": "code",
   "execution_count": 69,
   "metadata": {
    "id": "NxKjtpgC_l85"
   },
   "outputs": [],
   "source": [
    "max_pooling_layer = tf.keras.layers.MaxPooling2D((2,2))"
   ]
  },
  {
   "cell_type": "code",
   "execution_count": 70,
   "metadata": {
    "colab": {
     "base_uri": "https://localhost:8080/"
    },
    "id": "13XVRV2knpxU",
    "outputId": "ba2687dd-6cf9-4d7b-9bb2-a0f3a3023413"
   },
   "outputs": [
    {
     "data": {
      "text/plain": [
       "TensorShape([1, 13, 13, 32])"
      ]
     },
     "execution_count": 70,
     "metadata": {},
     "output_type": "execute_result"
    }
   ],
   "source": [
    "max_pooling_layer(conv_layer(X)).shape"
   ]
  },
  {
   "cell_type": "markdown",
   "metadata": {
    "id": "utZXMkb8hNew"
   },
   "source": [
    "### Flatten réteg:\n",
    "\"Kilapítjuk\" a réteg inputját: az inputjából csinál egy darab sor vektort."
   ]
  },
  {
   "cell_type": "code",
   "execution_count": 71,
   "metadata": {
    "id": "V1mClKppADez"
   },
   "outputs": [],
   "source": [
    "flatten_layer = tf.keras.layers.Flatten()"
   ]
  },
  {
   "cell_type": "code",
   "execution_count": 72,
   "metadata": {
    "colab": {
     "base_uri": "https://localhost:8080/"
    },
    "id": "Nezku1Hg_3Xv",
    "outputId": "c6a584c3-869e-4921-a1f7-27290c138462"
   },
   "outputs": [
    {
     "data": {
      "text/plain": [
       "<tf.Tensor: shape=(1, 5408), dtype=float32, numpy=array([[0., 0., 0., ..., 0., 0., 0.]], dtype=float32)>"
      ]
     },
     "execution_count": 72,
     "metadata": {},
     "output_type": "execute_result"
    }
   ],
   "source": [
    "flatten_layer(max_pooling_layer(conv_layer(X)))"
   ]
  },
  {
   "cell_type": "markdown",
   "metadata": {
    "id": "ri8486GlhczQ"
   },
   "source": [
    "### Sűrű vagy teljesen kapcsolt vagy forward réteg:\n",
    "A klasszikus réteg.\n"
   ]
  },
  {
   "cell_type": "code",
   "execution_count": 73,
   "metadata": {
    "id": "hyp-LivS878W"
   },
   "outputs": [],
   "source": [
    "dense_layer_1 = tf.keras.layers.Dense(100,\n",
    "                                      activation = \"relu\",\n",
    "                                      kernel_initializer = \"he_uniform\")"
   ]
  },
  {
   "cell_type": "code",
   "execution_count": 74,
   "metadata": {
    "colab": {
     "base_uri": "https://localhost:8080/"
    },
    "id": "D2zyMvdYAEK9",
    "outputId": "b2733a21-9e13-4693-8b1b-738bc137bf9d"
   },
   "outputs": [
    {
     "data": {
      "text/plain": [
       "<tf.Tensor: shape=(1, 100), dtype=float32, numpy=\n",
       "array([[1.1204057 , 0.        , 0.06362423, 0.        , 0.        ,\n",
       "        0.        , 0.        , 0.26787287, 0.27410924, 0.77601486,\n",
       "        0.        , 1.0820894 , 0.        , 0.        , 0.        ,\n",
       "        0.        , 0.        , 0.        , 0.        , 0.        ,\n",
       "        0.31525186, 0.        , 0.        , 1.0628434 , 0.68182886,\n",
       "        0.        , 0.        , 0.        , 1.0584575 , 0.        ,\n",
       "        0.        , 0.        , 0.        , 0.9342814 , 0.        ,\n",
       "        0.4241376 , 0.        , 0.9820931 , 0.271628  , 0.        ,\n",
       "        0.        , 0.0405885 , 0.69729716, 0.        , 0.        ,\n",
       "        0.09306592, 1.2086456 , 0.4721086 , 0.        , 0.05408493,\n",
       "        0.8815558 , 0.02764695, 0.81149447, 0.1641514 , 0.        ,\n",
       "        0.        , 0.04282354, 1.3100371 , 0.4485425 , 0.44080132,\n",
       "        0.        , 0.5515148 , 0.32936388, 0.20581546, 0.16482943,\n",
       "        0.        , 0.        , 0.        , 0.        , 0.        ,\n",
       "        0.08351915, 0.65419436, 0.3068167 , 0.6156111 , 0.        ,\n",
       "        0.32631952, 1.0805565 , 0.12026632, 0.6268846 , 0.45956707,\n",
       "        0.        , 0.24542975, 0.8712055 , 0.        , 0.        ,\n",
       "        0.        , 0.5849724 , 0.        , 0.7051941 , 0.        ,\n",
       "        0.        , 0.14133272, 0.08593161, 1.4492096 , 0.40754437,\n",
       "        0.        , 0.        , 0.        , 0.        , 0.33441073]],\n",
       "      dtype=float32)>"
      ]
     },
     "execution_count": 74,
     "metadata": {},
     "output_type": "execute_result"
    }
   ],
   "source": [
    "dense_layer_1(flatten_layer(max_pooling_layer(conv_layer(X))))"
   ]
  },
  {
   "cell_type": "code",
   "execution_count": 75,
   "metadata": {
    "id": "IkTEG-b19q8T"
   },
   "outputs": [],
   "source": [
    "dense_layer_2 = tf.keras.layers.Dense(10,\n",
    "                                      activation = \"softmax\")"
   ]
  },
  {
   "cell_type": "code",
   "execution_count": 76,
   "metadata": {
    "colab": {
     "base_uri": "https://localhost:8080/"
    },
    "id": "mkO3ymv9AJaB",
    "outputId": "ee6c361e-8cf0-45e9-c9de-85db0316879c"
   },
   "outputs": [
    {
     "data": {
      "text/plain": [
       "<tf.Tensor: shape=(1, 10), dtype=float32, numpy=\n",
       "array([[0.11772177, 0.04808058, 0.11898989, 0.09170238, 0.06762356,\n",
       "        0.2887253 , 0.0212456 , 0.04438127, 0.1282391 , 0.07329062]],\n",
       "      dtype=float32)>"
      ]
     },
     "execution_count": 76,
     "metadata": {},
     "output_type": "execute_result"
    }
   ],
   "source": [
    "dense_layer_2(dense_layer_1(flatten_layer(max_pooling_layer(conv_layer(X)))))"
   ]
  },
  {
   "cell_type": "markdown",
   "metadata": {
    "id": "bZ_eUBYPjcp2"
   },
   "source": [
    "### Sztochasztikus gradiens módszer:\n",
    "Jól bevált módszer, a részletek [itt](https://en.wikipedia.org/wiki/Stochastic_gradient_descent).\n",
    "\n",
    "A `keras`-ban elérhető további optimalizáló eljárások megtalálhatók [itt](https://keras.io/api/optimizers/)."
   ]
  },
  {
   "cell_type": "code",
   "execution_count": 77,
   "metadata": {
    "id": "Bd2QHBFlAe7q"
   },
   "outputs": [],
   "source": [
    "opt = tf.keras.optimizers.SGD(learning_rate=0.01,\n",
    "                              momentum=0.9)"
   ]
  },
  {
   "cell_type": "code",
   "execution_count": 78,
   "metadata": {
    "id": "MDEcSVjJIRis"
   },
   "outputs": [],
   "source": [
    "model.add(conv_layer)\n",
    "model.add(max_pooling_layer)\n",
    "model.add(flatten_layer)\n",
    "model.add(dense_layer_1)\n",
    "model.add(dense_layer_2)"
   ]
  },
  {
   "cell_type": "markdown",
   "metadata": {
    "id": "4Yj3i0h-ZeAU"
   },
   "source": [
    "### Veszteségfüggvény: Kategorikus keresztentrópia\n",
    "A következő lesz a veszteségfüggvényünk. Jelölje $f_\\theta$ a neurális háló által reprezentált függvényt, legyen $x\\in\\mathcal{X}$ egy input, $y\\in\\mathbb{R}^C$ a hozzá tartozó címke és $s=f_\\theta(x)$. Definiáljuk $\\forall i=1,\\ldots,C$-re a $\\sigma_i:\\mathbb{R}^C\\to\\mathbb{R}$ függvényt:\n",
    "\\begin{equation}\n",
    "  s\\mapsto \\frac{\\mathrm{e}^{s_i}}{\\sum_{j=1}^C\\mathrm{e}^{s_j}}\n",
    "\\end{equation}\n",
    "Ekkor a kategorikus keresztentrópia az alábbi:\n",
    "\\begin{equation}\n",
    "  \\begin{array}{rcl}\n",
    "    \\mathcal{L}_{CCE}(x)& =& -\\sum_{i=1}^C y_i\\log(\\sigma_i(x))\\\\\n",
    "    & = & -\\log\\left(\\frac{\\mathrm{e}^{s_i}}{\\sum_{j=1}^C\\mathrm{e}^{s_j}}\\right)\n",
    "  \\end{array}\n",
    "\\end{equation}\n",
    "mivel $y_i=1$ pontosan akkor, ha $x$ az $i.$ kategóriába tartozik, különben $0$.\n",
    "\n",
    "#### Metrika: pontosság\n",
    "Azt méri, hogy a modell által javasolt címke hányszor felel meg a valódi címkének. Egyéb metrikák [itt](https://keras.io/api/metrics/) találhatók."
   ]
  },
  {
   "cell_type": "code",
   "execution_count": 79,
   "metadata": {
    "id": "3UsXHK0TAqoc"
   },
   "outputs": [],
   "source": [
    " model.compile(optimizer=opt,\n",
    "               loss='categorical_crossentropy',\n",
    "               metrics=['accuracy'])"
   ]
  },
  {
   "cell_type": "code",
   "execution_count": 128,
   "metadata": {
    "colab": {
     "base_uri": "https://localhost:8080/"
    },
    "id": "IM2PuffpM7pS",
    "outputId": "1826621a-efee-4d02-a384-80f2bba6ab93"
   },
   "outputs": [
    {
     "name": "stdout",
     "output_type": "stream",
     "text": [
      "Model: \"sequential_7\"\n",
      "_________________________________________________________________\n",
      " Layer (type)                Output Shape              Param #   \n",
      "=================================================================\n",
      " conv2d_11 (Conv2D)          (None, 26, 26, 32)        320       \n",
      "                                                                 \n",
      " max_pooling2d_2 (MaxPooling  (None, 13, 13, 32)       0         \n",
      " 2D)                                                             \n",
      "                                                                 \n",
      " flatten_5 (Flatten)         (None, 5408)              0         \n",
      "                                                                 \n",
      " dense_15 (Dense)            (None, 100)               540900    \n",
      "                                                                 \n",
      " dense_16 (Dense)            (None, 10)                1010      \n",
      "                                                                 \n",
      "=================================================================\n",
      "Total params: 542,230\n",
      "Trainable params: 542,230\n",
      "Non-trainable params: 0\n",
      "_________________________________________________________________\n"
     ]
    }
   ],
   "source": [
    "model.summary()"
   ]
  },
  {
   "cell_type": "markdown",
   "metadata": {},
   "source": [
    "### A tanítás:\n",
    "Megadjuk neki a bemenetet és hozzájuk az elvár címkéket, majd 10-szer végigfuttatjuk a teljes tanító adaton. A `batch_size` mondja meg, hogy hány inputonként végezzen el egy javítást az optimalizáló. A túl kicsi batch túl sok munkát ad az optimalizálónak, a túl nagy batch viszont \"szétkeni\" a javításokat. Leggyakrabban 2-hatványnak szokás megválasztani a méretét."
   ]
  },
  {
   "cell_type": "code",
   "execution_count": 80,
   "metadata": {
    "colab": {
     "base_uri": "https://localhost:8080/"
    },
    "id": "rMSioTuaAwLO",
    "outputId": "f111412a-0c54-487f-9771-f91fc3f14b7b"
   },
   "outputs": [
    {
     "name": "stdout",
     "output_type": "stream",
     "text": [
      "Epoch 1/10\n",
      "118/118 [==============================] - 4s 7ms/step - loss: 0.4355 - accuracy: 0.8709\n",
      "Epoch 2/10\n",
      "118/118 [==============================] - 1s 6ms/step - loss: 0.2036 - accuracy: 0.9411\n",
      "Epoch 3/10\n",
      "118/118 [==============================] - 1s 6ms/step - loss: 0.1578 - accuracy: 0.9545\n",
      "Epoch 4/10\n",
      "118/118 [==============================] - 1s 6ms/step - loss: 0.1329 - accuracy: 0.9620\n",
      "Epoch 5/10\n",
      "118/118 [==============================] - 1s 6ms/step - loss: 0.1121 - accuracy: 0.9685\n",
      "Epoch 6/10\n",
      "118/118 [==============================] - 1s 7ms/step - loss: 0.0980 - accuracy: 0.9729\n",
      "Epoch 7/10\n",
      "118/118 [==============================] - 1s 7ms/step - loss: 0.0864 - accuracy: 0.9766\n",
      "Epoch 8/10\n",
      "118/118 [==============================] - 1s 6ms/step - loss: 0.0760 - accuracy: 0.9794\n",
      "Epoch 9/10\n",
      "118/118 [==============================] - 1s 6ms/step - loss: 0.0703 - accuracy: 0.9810\n",
      "Epoch 10/10\n",
      "118/118 [==============================] - 1s 6ms/step - loss: 0.0637 - accuracy: 0.9827\n"
     ]
    },
    {
     "data": {
      "text/plain": [
       "<keras.callbacks.History at 0x7efb8b8b7eb0>"
      ]
     },
     "execution_count": 80,
     "metadata": {},
     "output_type": "execute_result"
    }
   ],
   "source": [
    "model.fit(trainX,\n",
    "          trainy,\n",
    "          epochs=10,\n",
    "          batch_size=512,\n",
    "          verbose=True)"
   ]
  },
  {
   "cell_type": "markdown",
   "metadata": {},
   "source": [
    "### Kiértékeljük a tesztadaton:"
   ]
  },
  {
   "cell_type": "code",
   "execution_count": 33,
   "metadata": {
    "colab": {
     "base_uri": "https://localhost:8080/"
    },
    "id": "hwnafuUNHHHL",
    "outputId": "aed2f551-ddf4-4b8a-dfa3-f5ca02635172"
   },
   "outputs": [
    {
     "name": "stdout",
     "output_type": "stream",
     "text": [
      "313/313 [==============================] - 1s 4ms/step - loss: 0.0644 - accuracy: 0.9805\n"
     ]
    },
    {
     "data": {
      "text/plain": [
       "[0.06437385082244873, 0.9804999828338623]"
      ]
     },
     "execution_count": 33,
     "metadata": {},
     "output_type": "execute_result"
    }
   ],
   "source": [
    "model.evaluate(testX, testy)"
   ]
  },
  {
   "cell_type": "markdown",
   "metadata": {},
   "source": [
    "### Kiértékeljük egy darab inputon:"
   ]
  },
  {
   "cell_type": "code",
   "execution_count": 81,
   "metadata": {
    "colab": {
     "base_uri": "https://localhost:8080/"
    },
    "id": "Y5O7bAD_JvBu",
    "outputId": "681a7274-e61b-4229-ea57-18ce7cf84f86"
   },
   "outputs": [
    {
     "data": {
      "text/plain": [
       "(<tf.Tensor: shape=(1, 10), dtype=float32, numpy=\n",
       " array([[5.95481936e-07, 1.27879417e-07, 5.85866437e-05, 1.05433435e-04,\n",
       "         2.41944753e-09, 3.86528257e-07, 1.52746270e-11, 9.99804437e-01,\n",
       "         2.25614167e-05, 7.96566019e-06]], dtype=float32)>,\n",
       " array([0., 0., 0., 0., 0., 0., 0., 1., 0., 0.], dtype=float32))"
      ]
     },
     "execution_count": 81,
     "metadata": {},
     "output_type": "execute_result"
    }
   ],
   "source": [
    "model(X), y"
   ]
  },
  {
   "cell_type": "markdown",
   "metadata": {
    "id": "QjZ_eUctChDD"
   },
   "source": [
    "# Feladat: LeNet-5\n",
    "Valósítsd meg a [LeNet-5](https://en.wikipedia.org/wiki/LeNet)-öt és tanítsd be az MNIST adathalmazon! \n",
    "Részfeladatok:\n",
    "* Alakítsd át úgy a tanító adatot (`trainX`), hogy explicit 1-csatornás legyen, vagyis hogy `trainX.shape = (60000, 28, 28, 1)`. Ezt pl. a `tf.expand_dim()` függvénnyel tudod megtenni.\n",
    "* Készíts egy szekvenciális modellt!\n",
    "* Legyen az első rétege egy `ZeroPadding2d`, a pedding értéke pedig 2 minden irányban.\n",
    "* Készítsd el az [itt](https://en.wikipedia.org/wiki/Convolutional_neural_network#/media/File:Comparison_image_neural_networks.svg) látható architektúrát. (Az első konvolúciós rétegnél a +2 padding az, amit a `ZeroPadding2D` réteggel megcsinálunk).\n",
    "* Példányosíts egy stochasztikus gradiens optimalizálót, pl. az előző hálónál használt paraméterekkel (kísérletezhetsz vele, hogy különböző paramétereknél mi történik).\n",
    "* Konfiguráld a modellt a tanításhoz az optimalizálóval, a veszteségfüggvény legyen itt is `categorical_crossentropy`, és a teljesítmény mérésére használt metrika legyen itt is a pontosság!\n",
    "* Tanítsd be a modellt! Kísérletezz különböző batch méretekkel és az epochok számával.\n",
    "\n",
    "További olvasnivaló a modellről [itt](https://arnabfly.github.io/arnab_blog/lenet5/)."
   ]
  },
  {
   "cell_type": "code",
   "execution_count": null,
   "metadata": {
    "colab": {
     "base_uri": "https://localhost:8080/"
    },
    "id": "Rj9TnmRGT1qH",
    "outputId": "324b4021-9bb7-4e59-ea2d-aaa0547fe915"
   },
   "outputs": [],
   "source": []
  }
 ],
 "metadata": {
  "accelerator": "GPU",
  "colab": {
   "provenance": []
  },
  "gpuClass": "standard",
  "kernelspec": {
   "display_name": "Python 3",
   "language": "python",
   "name": "python3"
  },
  "language_info": {
   "codemirror_mode": {
    "name": "ipython",
    "version": 3
   },
   "file_extension": ".py",
   "mimetype": "text/x-python",
   "name": "python",
   "nbconvert_exporter": "python",
   "pygments_lexer": "ipython3",
   "version": "3.7.10"
  },
  "latex_envs": {
   "LaTeX_envs_menu_present": true,
   "autoclose": true,
   "autocomplete": true,
   "bibliofile": "biblio.bib",
   "cite_by": "apalike",
   "current_citInitial": 1,
   "eqLabelWithNumbers": true,
   "eqNumInitial": 1,
   "hotkeys": {
    "equation": "Ctrl-E",
    "itemize": "Ctrl-I"
   },
   "labels_anchors": false,
   "latex_user_defs": false,
   "report_style_numbering": true,
   "user_envs_cfg": false
  },
  "toc": {
   "base_numbering": 1,
   "nav_menu": {},
   "number_sections": true,
   "sideBar": true,
   "skip_h1_title": false,
   "title_cell": "Table of Contents",
   "title_sidebar": "Contents",
   "toc_cell": false,
   "toc_position": {},
   "toc_section_display": true,
   "toc_window_display": false
  },
  "varInspector": {
   "cols": {
    "lenName": 16,
    "lenType": 16,
    "lenVar": 40
   },
   "kernels_config": {
    "python": {
     "delete_cmd_postfix": "",
     "delete_cmd_prefix": "del ",
     "library": "var_list.py",
     "varRefreshCmd": "print(var_dic_list())"
    },
    "r": {
     "delete_cmd_postfix": ") ",
     "delete_cmd_prefix": "rm(",
     "library": "var_list.r",
     "varRefreshCmd": "cat(var_dic_list()) "
    }
   },
   "types_to_exclude": [
    "module",
    "function",
    "builtin_function_or_method",
    "instance",
    "_Feature"
   ],
   "window_display": false
  }
 },
 "nbformat": 4,
 "nbformat_minor": 1
}
