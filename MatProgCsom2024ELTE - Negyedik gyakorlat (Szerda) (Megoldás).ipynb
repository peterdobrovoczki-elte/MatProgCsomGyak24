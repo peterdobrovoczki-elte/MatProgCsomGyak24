{
 "cells": [
  {
   "cell_type": "markdown",
   "metadata": {},
   "source": [
    "# Matematikai algoritmusok és felfedezések II. - Negyedik gyakorlat (SAT)"
   ]
  },
  {
   "cell_type": "markdown",
   "metadata": {},
   "source": [
    "## SAT - Logikai kielégíthetőség\n",
    "\n",
    "| Matematikai jelölés                     | Megnevezés             | PySAT szintaxis          |\n",
    "| :------------------------------------- |    :----:              |                ---:      |\n",
    "| $x_1$                                   | Literál                |       `1`                |\n",
    "| $\\lnot x_1$                             | Literál negáltja       |       `-1`               |\n",
    "| $\\left(x_1\\lor x_2\\lor\\lnot x_3\\right)$ | Klóz (clause)          |       `[1,2,-3]`         |\n",
    "| $(x_1\\lor x_2)\\land(x_1\\lor\\lnot x_3)$  | Konjunktív normálforma | `CNF([[1, 2], [1, -3]])` |\n",
    "\n",
    "Engedélyezett műveletek egy konjunktív normálformában (**CNF**):\n",
    "* Literálok és tagadásuk \"össze-**VAGY**-olása\" klózokká,\n",
    "* Klózok \"össze-**ÉS**-elése\".\n",
    "\n",
    "Egy CNF ezen két művelet felhasználásával létrejövő logikai formula. A SAT feladat annak eldöntése, hogy tudunk-e olyan értéket adni a literáloknak (**IGAZ** vagy **HAMIS**), amelyek mellett a logikai formula **IGAZ**-ra értékelődik ki.\n",
    "\n",
    "---\n",
    "\n",
    "__Állítás:__ Tetszőleges logikai formula átalakítható konjunktív normálformára.\n",
    "\n",
    "---\n",
    "\n",
    "__Igazságtábla:__ Egy olyan táblázat, ahol felsoroljuk az összes lehetséges értékét a literáloknak ($n$ literál esetén ez $2^n$ lehetséges kiértékelés) illetve az adott értékek mellett a logikai formula értékét. Ennek segítségével tetszőleges logikai formula CNF-fé alakítható.\n",
    "\n",
    "Például vegyük azt a kifejezést, hogy\n",
    "\n",
    "$$\\phi\\colon = x_1 \\land \\lnot x_2\\implies x_3 \\land\\lnot x_1.$$\n",
    "\n",
    "Ez nyilvánvalóan nem CNF. Írjuk fel az igazságtábláját:\n",
    "\n",
    "| $x_1$  | $x_2$  | $x_3$  | $\\phi$ |\n",
    "| :----: | :----: | :----: | :----: |\n",
    "| $0$    | $0$    | $0$    | $1$    |\n",
    "| $0$    | $0$    | $1$    | $1$    |\n",
    "| $0$    | $1$    | $0$    | $1$    |\n",
    "| $0$    | $1$    | $1$    | $1$    |\n",
    "| $1$    | $0$    | $0$    | $0$    |\n",
    "| $1$    | $0$    | $1$    | $0$    |\n",
    "| $1$    | $1$    | $0$    | $1$    |\n",
    "| $1$    | $1$    | $1$    | $1$    |\n",
    "\n",
    "_(itt az egyszerűség kedvéért az **IGAZ** értéket $1$-gyel, a **HAMIS**-at $0$-val jelöltem.)_\n",
    "\n",
    "Ez CNF-ként az alábbi lenne:\n",
    "\n",
    "$$\n",
    "    (\\lnot x_1\\lor x_2\\lor x_3)\\land(\\lnot x_1\\lor x_2\\lor\\lnot x_3).\n",
    "$$\n",
    "\n",
    "Az eljárás lényege:\n",
    "* Kiválasztjuk azokat a sorokat, amelyekben **HAMIS** a formula értéke\n",
    "* Ennek a sornak minden literálját tagadjuk, és csinálunk belőle egy klózt\n",
    "* Az így kapott klózokat össze-**ÉS**-eljük."
   ]
  },
  {
   "cell_type": "markdown",
   "metadata": {},
   "source": [
    "## PySAT"
   ]
  },
  {
   "cell_type": "code",
   "execution_count": 2,
   "metadata": {},
   "outputs": [],
   "source": [
    "from pysat.formula import CNF\n",
    "from pysat.solvers import Glucose3\n",
    "from pysat.formula import IDPool"
   ]
  },
  {
   "cell_type": "code",
   "execution_count": 14,
   "metadata": {},
   "outputs": [
    {
     "data": {
      "text/plain": [
       "[[1, 2, 3], [-1, 2, -3]]"
      ]
     },
     "execution_count": 14,
     "metadata": {},
     "output_type": "execute_result"
    }
   ],
   "source": [
    "# Create an empty CNF and add clauses\n",
    "formula = CNF()\n",
    "formula.append([1,2,3])\n",
    "formula.append([-1,2,-3])\n",
    "\n",
    "formula.clauses"
   ]
  },
  {
   "cell_type": "code",
   "execution_count": 15,
   "metadata": {},
   "outputs": [
    {
     "data": {
      "text/plain": [
       "[[1, 2, 3], [-1, 2, -3]]"
      ]
     },
     "execution_count": 15,
     "metadata": {},
     "output_type": "execute_result"
    }
   ],
   "source": [
    "formula = CNF()\n",
    "formula.extend([[1,2,3], [-1,2,-3]])\n",
    "\n",
    "formula.clauses"
   ]
  },
  {
   "cell_type": "code",
   "execution_count": 16,
   "metadata": {},
   "outputs": [
    {
     "data": {
      "text/plain": [
       "(True, [1, -2, -3])"
      ]
     },
     "execution_count": 16,
     "metadata": {},
     "output_type": "execute_result"
    }
   ],
   "source": [
    "# Initialize solver instance, add clauses and solve it\n",
    "g = Glucose3()\n",
    "g.add_clause([1,2,3])\n",
    "g.add_clause([-1,2,-3])\n",
    "g.solve(), g.get_model()"
   ]
  },
  {
   "cell_type": "code",
   "execution_count": 17,
   "metadata": {},
   "outputs": [
    {
     "data": {
      "text/plain": [
       "(True, [1, -2, -3])"
      ]
     },
     "execution_count": 17,
     "metadata": {},
     "output_type": "execute_result"
    }
   ],
   "source": [
    "# Initialize solver and add clauses from a formula\n",
    "g = Glucose3()\n",
    "for c in formula.clauses:\n",
    "    g.add_clause(c)\n",
    "\n",
    "g.solve(), g.get_model()"
   ]
  },
  {
   "cell_type": "code",
   "execution_count": 18,
   "metadata": {},
   "outputs": [
    {
     "data": {
      "text/plain": [
       "(True, [1, -2, -3])"
      ]
     },
     "execution_count": 18,
     "metadata": {},
     "output_type": "execute_result"
    }
   ],
   "source": [
    "# Initialize solver with CNF and solve it\n",
    "g = Glucose3(formula)\n",
    "\n",
    "g.solve(), g.get_model()"
   ]
  },
  {
   "cell_type": "code",
   "execution_count": 19,
   "metadata": {},
   "outputs": [
    {
     "data": {
      "text/plain": [
       "(True, [-1, 2, -3])"
      ]
     },
     "execution_count": 19,
     "metadata": {},
     "output_type": "execute_result"
    }
   ],
   "source": [
    "# Initialize solver with CNF and solve it with fixed variables\n",
    "g = Glucose3(formula)\n",
    "\n",
    "g.solve(assumptions=[2]), g.get_model()"
   ]
  },
  {
   "cell_type": "code",
   "execution_count": 20,
   "metadata": {},
   "outputs": [
    {
     "name": "stdout",
     "output_type": "stream",
     "text": [
      "[['x_0', 'x_1'], ['x_0', 'x_2'], ['x_0', 'x_3'], ['x_0', 'x_4'], ['x_0', 'x_5'], ['x_1', 'x_2'], ['x_1', 'x_3'], ['x_1', 'x_4'], ['x_1', 'x_5'], ['x_2', 'x_3'], ['x_2', 'x_4'], ['x_2', 'x_5'], ['x_3', 'x_4'], ['x_3', 'x_5'], ['x_4', 'x_5']]\n"
     ]
    }
   ],
   "source": [
    "# Variable IDs\n",
    "vpool = IDPool()\n",
    "x = lambda i: vpool.id(f'x_{i}')\n",
    "\n",
    "formula = CNF()\n",
    "for i in range(5):\n",
    "    for j in range(i+1, 6):\n",
    "        formula.append([x(i), x(j)])\n",
    "        \n",
    "print([[vpool.obj(i) for i in clause] for clause in formula.clauses])"
   ]
  },
  {
   "cell_type": "markdown",
   "metadata": {},
   "source": [
    "## Telepítés\n",
    "\n",
    "https://pysathq.github.io/index.html\n",
    "\n",
    "__Telepítés után újra kell indítani a kernelt!__"
   ]
  },
  {
   "cell_type": "code",
   "execution_count": 21,
   "metadata": {},
   "outputs": [
    {
     "name": "stdout",
     "output_type": "stream",
     "text": [
      "Requirement already satisfied: python-sat in ./.local/lib/python3.6/site-packages (0.1.7.dev10)\r\n",
      "Requirement already satisfied: six in /opt/conda/lib/python3.6/site-packages (from python-sat) (1.12.0)\r\n"
     ]
    }
   ],
   "source": [
    "!pip install --user python-sat"
   ]
  },
  {
   "cell_type": "markdown",
   "metadata": {},
   "source": [
    "## Feladatok"
   ]
  },
  {
   "cell_type": "markdown",
   "metadata": {},
   "source": [
    "### 1) Bemelegítés\n",
    "Legyen $x_1,x_2$ és $x_3$ logikai változók, írj fel egy olyan $\\phi(x_1,x_2,x_3)$ logikai formulát, amely pontosan akkor igaz, ha\n",
    "* legfeljebb kettő változó igaz,\n",
    "* legfeljebb egy változó igaz,\n",
    "* minden változó igaz,\n",
    "* pontosan az egyik változó igaz."
   ]
  },
  {
   "cell_type": "code",
   "execution_count": 4,
   "metadata": {},
   "outputs": [
    {
     "name": "stdout",
     "output_type": "stream",
     "text": [
      "[1, 2, 3] False\n",
      "[-1, 2, 3] True\n",
      "[1, -2, 3] True\n",
      "[1, 2, -3] True\n",
      "[-1, -2, 3] True\n",
      "[-1, 2, -3] True\n",
      "[1, -2, -3] True\n",
      "[-1, -2, -3] True\n"
     ]
    }
   ],
   "source": [
    "at_most_two = CNF()\n",
    "\n",
    "at_most_two.extend([[-1,-2,-3]])\n",
    "truth_table(at_most_two)"
   ]
  },
  {
   "cell_type": "code",
   "execution_count": 23,
   "metadata": {},
   "outputs": [
    {
     "name": "stdout",
     "output_type": "stream",
     "text": [
      "[1, 2, 3] False\n",
      "[-1, 2, 3] False\n",
      "[1, -2, 3] False\n",
      "[1, 2, -3] False\n",
      "[-1, -2, 3] True\n",
      "[-1, 2, -3] True\n",
      "[1, -2, -3] True\n",
      "[-1, -2, -3] True\n"
     ]
    }
   ],
   "source": [
    "at_most_one = CNF()\n",
    "\n",
    "at_most_one.extend([[-1,-2,-3],\n",
    "                    [-1,-2,3],\n",
    "                    [1, -2, -3],\n",
    "                    [-1, 2, -3]])\n",
    "\n",
    "truth_table(at_most_one)"
   ]
  },
  {
   "cell_type": "code",
   "execution_count": 6,
   "metadata": {
    "scrolled": true
   },
   "outputs": [
    {
     "name": "stdout",
     "output_type": "stream",
     "text": [
      "[1, 2, 3] True\n",
      "[-1, 2, 3] False\n",
      "[1, -2, 3] False\n",
      "[1, 2, -3] False\n",
      "[-1, -2, 3] False\n",
      "[-1, 2, -3] False\n",
      "[1, -2, -3] False\n",
      "[-1, -2, -3] False\n"
     ]
    }
   ],
   "source": [
    "same = CNF()\n",
    "\n",
    "same.extend([[-1, -2, 3],\n",
    "             [-1, 2, -3],\n",
    "             [1, -2, -3],\n",
    "             [-1, 2, 3],\n",
    "             [1, -2, 3],\n",
    "             [1, 2, -3],\n",
    "             [1, 2, 3]])\n",
    "truth_table(same)"
   ]
  },
  {
   "cell_type": "code",
   "execution_count": 25,
   "metadata": {},
   "outputs": [
    {
     "data": {
      "text/plain": [
       "(True, [1, 2, 3])"
      ]
     },
     "execution_count": 25,
     "metadata": {},
     "output_type": "execute_result"
    }
   ],
   "source": [
    "g = Glucose3(same)\n",
    "SAT = g.solve(assumptions=[1])\n",
    "SAT, g.get_model()"
   ]
  },
  {
   "cell_type": "code",
   "execution_count": 26,
   "metadata": {},
   "outputs": [
    {
     "name": "stdout",
     "output_type": "stream",
     "text": [
      "[1, 2, 3] False\n",
      "[-1, 2, 3] False\n",
      "[1, -2, 3] False\n",
      "[1, 2, -3] False\n",
      "[-1, -2, 3] True\n",
      "[-1, 2, -3] True\n",
      "[1, -2, -3] True\n",
      "[-1, -2, -3] False\n"
     ]
    }
   ],
   "source": [
    "exactly_one = CNF()\n",
    "\n",
    "exactly_one.extend([[1,2,3],\n",
    "                    [-1,-2,-3],\n",
    "                    [1,-2,-3],\n",
    "                    [-1,-2,3],\n",
    "                    [-1,2,-3]])\n",
    "truth_table(exactly_one)"
   ]
  },
  {
   "cell_type": "markdown",
   "metadata": {},
   "source": [
    "### 2) \"Pontosan egy\", \"legfeljebb egy\" segédfüggvények\n",
    "Írj egy függvényt, amely klózoknak egy olyan listáját adja vissza, amely CNF-ként értelmezve pontosan akkor igaz, ha pontosan egy literál igaz/ legfeljebb egy literál igaz.\n",
    "\n",
    "_(Hint: az egyiket felhasználva könnyen megkapható a másik.)_"
   ]
  },
  {
   "cell_type": "code",
   "execution_count": 13,
   "metadata": {},
   "outputs": [],
   "source": [
    "def at_most_one(lits):\n",
    "    '''\n",
    "        Given a list of literals the function creates the clauses of the CNF\n",
    "        that is true iff at most one literal is true\n",
    "    '''\n",
    "    clauses = []\n",
    "    for i in range(len(lits)):\n",
    "        for j in range(i+1, len(lits)):\n",
    "            clauses.append([-lits[i], -lits[j]])\n",
    "    return clauses"
   ]
  },
  {
   "cell_type": "code",
   "execution_count": 8,
   "metadata": {
    "scrolled": true
   },
   "outputs": [
    {
     "name": "stdout",
     "output_type": "stream",
     "text": [
      "[1, 2, 3] False\n",
      "[-1, 2, 3] False\n",
      "[1, -2, 3] False\n",
      "[1, 2, -3] False\n",
      "[-1, -2, 3] True\n",
      "[-1, 2, -3] True\n",
      "[1, -2, -3] True\n",
      "[-1, -2, -3] True\n"
     ]
    }
   ],
   "source": [
    "formula = CNF(from_clauses=at_most_one([1, 2, 3]))\n",
    "truth_table(formula)"
   ]
  },
  {
   "cell_type": "code",
   "execution_count": 14,
   "metadata": {},
   "outputs": [],
   "source": [
    "def exactly_one(lits):\n",
    "    '''\n",
    "        Given a list of literals the function creates the clauses of the CNF\n",
    "        that is true iff only one literal is true\n",
    "    '''\n",
    "    clauses = at_most_one(lits)\n",
    "    clauses.append(lits)\n",
    "    return clauses"
   ]
  },
  {
   "cell_type": "code",
   "execution_count": 30,
   "metadata": {},
   "outputs": [
    {
     "name": "stdout",
     "output_type": "stream",
     "text": [
      "[1, 2, 3] False\n",
      "[-1, 2, 3] False\n",
      "[1, -2, 3] False\n",
      "[1, 2, -3] False\n",
      "[-1, -2, 3] True\n",
      "[-1, 2, -3] True\n",
      "[1, -2, -3] True\n",
      "[-1, -2, -3] False\n"
     ]
    }
   ],
   "source": [
    "formula = CNF(from_clauses=exactly_one([1, 2, 3]))\n",
    "truth_table(formula)"
   ]
  },
  {
   "cell_type": "markdown",
   "metadata": {},
   "source": [
    "### 3) Igazságtábla\n",
    "\n",
    "Írj egy függvényt, amelynek bemenete egy CNF, és kiírja a kapott CNF igazságtábláját!"
   ]
  },
  {
   "cell_type": "code",
   "execution_count": 3,
   "metadata": {},
   "outputs": [],
   "source": [
    "import itertools\n",
    "\n",
    "def truth_table(cnf):\n",
    "    '''\n",
    "        Compute all possible variations of truth values of literals,\n",
    "        evaluate the formula and print the truth table\n",
    "    '''\n",
    "    g = Glucose3(cnf)\n",
    "    lits = list(set(lit if lit > 0 else -lit for clause in cnf.clauses for lit in clause))\n",
    "    for L in range(0, len(lits)+1):\n",
    "        for subset in itertools.combinations(lits, L):\n",
    "            assumption = [-i if i in subset else i for i in lits]\n",
    "            print(assumption, g.solve(assumptions=assumption))"
   ]
  },
  {
   "cell_type": "code",
   "execution_count": 32,
   "metadata": {},
   "outputs": [
    {
     "name": "stdout",
     "output_type": "stream",
     "text": [
      "[1, 2, 3] True\n",
      "[-1, 2, 3] False\n",
      "[1, -2, 3] False\n",
      "[1, 2, -3] False\n",
      "[-1, -2, 3] False\n",
      "[-1, 2, -3] False\n",
      "[1, -2, -3] False\n",
      "[-1, -2, -3] True\n"
     ]
    }
   ],
   "source": [
    "truth_table(same)"
   ]
  },
  {
   "cell_type": "markdown",
   "metadata": {},
   "source": [
    "### 4) $n$-királynő probléma\n",
    "\n",
    "Oldd meg az $n$-királynő problémát SAT feladatként! Az $n$-királynő problémában egy $n\\times n$ méretű sakktáblára szeretnénk elhelyezni $n$ királynőt úgy, hogy semelyik kettő ne tudja ütni egymást.\n",
    "* Modellezd SAT problémaként,\n",
    "* oldd meg,\n",
    "* ábrázold az így kapott sakktáblát\n",
    "\n",
    "_(Hint: a korábban megírt függvények még hasznosak lehetnek)_"
   ]
  },
  {
   "cell_type": "code",
   "execution_count": 15,
   "metadata": {},
   "outputs": [],
   "source": [
    "from pysat.card import CardEnc, EncType\n",
    "def nqueens(n):\n",
    "    '''\n",
    "        Solve the n queens problem modeled as SAT\n",
    "        input:\n",
    "            n (int) : number of queens\n",
    "            \n",
    "        The pattern\n",
    "    '''\n",
    "    \n",
    "    # Create an n x n board\n",
    "    board = [[i+n*j for i in range(1, n+1)] for j in range(n)]\n",
    "    \n",
    "    # Initialize CNF\n",
    "    nqueens = CNF()\n",
    "\n",
    "    # Exactly one in any row\n",
    "    for row in board:\n",
    "        nqueens.extend(exactly_one(row))\n",
    "\n",
    "    # Exactly one in any column\n",
    "    for i in range(n):\n",
    "        col = [row[i] for row in board]\n",
    "        nqueens.extend(exactly_one(col))\n",
    "\n",
    "    # At most one in any \"right\" diagonal\n",
    "    rightdiags = []\n",
    "    for k in range(0, n-1):\n",
    "        i, j = k, 0\n",
    "        rd = []\n",
    "        while i < n and j < n:\n",
    "            rd.append(board[j][i])\n",
    "            i+= 1\n",
    "            j+= 1\n",
    "        rightdiags.append(rd)    \n",
    "\n",
    "    for k in range(1, n-1):\n",
    "        i, j = k, 0\n",
    "        rd = []\n",
    "        while i < n and j < n:\n",
    "            rd.append(board[i][j])\n",
    "            i+= 1\n",
    "            j+= 1\n",
    "        rightdiags.append(rd)\n",
    "\n",
    "    for rd in rightdiags:\n",
    "        nqueens.extend(at_most_one(rd))\n",
    "\n",
    "    # At most one in any \"left\" diagonal\n",
    "    leftdiags = []\n",
    "    for k in range(n-1, 0, -1):\n",
    "        i, j = 0, k\n",
    "        ld = []\n",
    "        while i < n and j >= 0:\n",
    "            ld.append(board[i][j])\n",
    "            i+=1\n",
    "            j-=1\n",
    "        leftdiags.append(ld)\n",
    "\n",
    "    for k in range(n-1, 1, -1):\n",
    "        i, j = k-1, n-1\n",
    "        ld = []\n",
    "        while i < n and j >= 0:\n",
    "            ld.append(board[i][j])\n",
    "            i+=1\n",
    "            j-=1\n",
    "        leftdiags.append(ld)\n",
    "\n",
    "    for ld in leftdiags:\n",
    "        nqueens.extend(at_most_one(ld))\n",
    "\n",
    "    # Solve the constructed SAT\n",
    "    solver = Glucose3(nqueens)\n",
    "    solver.solve()\n",
    "    \n",
    "    # Retrieve solution\n",
    "    sol = solver.get_model()\n",
    "    return sol\n",
    "        "
   ]
  },
  {
   "cell_type": "code",
   "execution_count": 16,
   "metadata": {},
   "outputs": [],
   "source": [
    "import math\n",
    "def print_nqueens(sol):\n",
    "    '''\n",
    "        Print solution of the n-queens problem\n",
    "    '''\n",
    "    n = int(math.sqrt(len(sol)))\n",
    "    sep = \"+\" + n * \"---+\"\n",
    "    print(sep)\n",
    "    for i in range(n):\n",
    "        row = \"|\"\n",
    "        for j in range(n):\n",
    "            if sol[i+j*n] > 0:\n",
    "                row += \" Q |\"\n",
    "            else:\n",
    "                row += \"   |\"\n",
    "        print(row)\n",
    "        print(sep)"
   ]
  },
  {
   "cell_type": "code",
   "execution_count": 17,
   "metadata": {
    "scrolled": true
   },
   "outputs": [],
   "source": [
    "sol = nqueens(9)"
   ]
  },
  {
   "cell_type": "code",
   "execution_count": 18,
   "metadata": {},
   "outputs": [
    {
     "name": "stdout",
     "output_type": "stream",
     "text": [
      "+---+---+---+---+---+---+---+---+---+\n",
      "|   |   |   |   |   |   |   |   | Q |\n",
      "+---+---+---+---+---+---+---+---+---+\n",
      "|   |   |   |   | Q |   |   |   |   |\n",
      "+---+---+---+---+---+---+---+---+---+\n",
      "|   |   |   |   |   |   |   | Q |   |\n",
      "+---+---+---+---+---+---+---+---+---+\n",
      "|   |   |   | Q |   |   |   |   |   |\n",
      "+---+---+---+---+---+---+---+---+---+\n",
      "| Q |   |   |   |   |   |   |   |   |\n",
      "+---+---+---+---+---+---+---+---+---+\n",
      "|   |   |   |   |   |   | Q |   |   |\n",
      "+---+---+---+---+---+---+---+---+---+\n",
      "|   | Q |   |   |   |   |   |   |   |\n",
      "+---+---+---+---+---+---+---+---+---+\n",
      "|   |   |   |   |   | Q |   |   |   |\n",
      "+---+---+---+---+---+---+---+---+---+\n",
      "|   |   | Q |   |   |   |   |   |   |\n",
      "+---+---+---+---+---+---+---+---+---+\n"
     ]
    }
   ],
   "source": [
    "print_nqueens(sol)"
   ]
  },
  {
   "cell_type": "markdown",
   "metadata": {},
   "source": [
    "### 5) Sudoku\n",
    "Oldd meg a Sudoku feladatot SAT problémaként! Hogyan kellene megoldani, ha adott előre néhány mező tartalma? \n",
    "* Modellezd SAT-ként,\n",
    "* oldd meg,\n",
    "* rajzold ki a kapott táblát!\n",
    "\n",
    "__Ezen még gondolkodjatok, legkésőbb a hatodik gyakorlaton megnézzük!__"
   ]
  }
 ],
 "metadata": {
  "kernelspec": {
   "display_name": "Python 3 (ipykernel)",
   "language": "python",
   "name": "python3"
  },
  "language_info": {
   "codemirror_mode": {
    "name": "ipython",
    "version": 3
   },
   "file_extension": ".py",
   "mimetype": "text/x-python",
   "name": "python",
   "nbconvert_exporter": "python",
   "pygments_lexer": "ipython3",
   "version": "3.11.8"
  },
  "latex_envs": {
   "LaTeX_envs_menu_present": true,
   "autoclose": true,
   "autocomplete": true,
   "bibliofile": "biblio.bib",
   "cite_by": "apalike",
   "current_citInitial": 1,
   "eqLabelWithNumbers": true,
   "eqNumInitial": 1,
   "hotkeys": {
    "equation": "Ctrl-E",
    "itemize": "Ctrl-I"
   },
   "labels_anchors": false,
   "latex_user_defs": false,
   "report_style_numbering": true,
   "user_envs_cfg": false
  },
  "toc": {
   "base_numbering": 1,
   "nav_menu": {},
   "number_sections": true,
   "sideBar": true,
   "skip_h1_title": false,
   "title_cell": "Table of Contents",
   "title_sidebar": "Contents",
   "toc_cell": false,
   "toc_position": {},
   "toc_section_display": true,
   "toc_window_display": false
  },
  "varInspector": {
   "cols": {
    "lenName": 16,
    "lenType": 16,
    "lenVar": 40
   },
   "kernels_config": {
    "python": {
     "delete_cmd_postfix": "",
     "delete_cmd_prefix": "del ",
     "library": "var_list.py",
     "varRefreshCmd": "print(var_dic_list())"
    },
    "r": {
     "delete_cmd_postfix": ") ",
     "delete_cmd_prefix": "rm(",
     "library": "var_list.r",
     "varRefreshCmd": "cat(var_dic_list()) "
    }
   },
   "types_to_exclude": [
    "module",
    "function",
    "builtin_function_or_method",
    "instance",
    "_Feature"
   ],
   "window_display": false
  }
 },
 "nbformat": 4,
 "nbformat_minor": 4
}
